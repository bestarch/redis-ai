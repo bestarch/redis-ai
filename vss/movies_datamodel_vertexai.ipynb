{
  "cells": [
    {
      "cell_type": "markdown",
      "id": "3282cf45-b6e2-4691-abae-b992d50d4f80",
      "metadata": {
        "jp-MarkdownHeadingCollapsed": true,
        "id": "3282cf45-b6e2-4691-abae-b992d50d4f80"
      },
      "source": [
        "# Introduction\n",
        "\n",
        "Redis Enterprise is an enterprise-grade Redis, available both on-premises and in the cloud (on AWS, Google Cloud, or Azure).\n",
        "Redis Enterprise simplifies operations, scaling, and multi-tenancy includes many integrations (for example, Kubernetes), and provides multiple tiers of support.\n",
        "<br>Redis Enterprise offers robust vector database features, with an efficient API for vector index creation, management, distance metric selection, similarity search, and hybrid filtering. When coupled with its versatile data structures - including lists, hashes, JSON, and sets - Redis Enterprise shines as the optimal solution for crafting high-quality Large Language Model (LLM)-based applications. It embodies a streamlined architecture and exceptional performance, making it an instrumental tool for production environments.\n",
        "\n",
        "### Important use cases include:\n",
        "* __Chatbots with RAG__\n",
        "    <br>Ground chatbots in your data using Retrieval Augmented Generation (RAG) to enhance the quality of LLM responses.\n",
        "\n",
        "* __Semantic caching__\n",
        "    <br>Identify and retrieve cached LLM outputs to reduce response times and the number of requests to your LLM provider, which saves time and money.\n",
        "\n",
        "* __Recommendation systems__\n",
        "    <br>Power recommendation engines with fresh, relevant suggestions at low-latency, and point your users to the products they’re most likely to buy.\n",
        "\n",
        "* __Document Search__\n",
        "    <br>Make it easier to discover and retrieve information across documents and knowledge bases, using natural language and semantic search.\n",
        "\n",
        "# Google's Vertex AI\n",
        "Google's Vertex AI has expanded its capabilities by introducing Generative AI. This advanced technology comes with a specialized in-console studio experience, a dedicated API and Python SDK designed for deploying and managing instances of Google's powerful Gemini language models."
      ]
    },
    {
      "cell_type": "markdown",
      "id": "6ade475d-83ac-46f6-b120-73b9749cee31",
      "metadata": {
        "id": "6ade475d-83ac-46f6-b120-73b9749cee31"
      },
      "source": [
        "# Lab overview & Objective\n",
        "\n",
        "In this Lab, we will implement a production-ready proof of concept by building an VSS application deployed on Google Cloud's infrastructure using Redis as a backbone.\n",
        "Here we will use a sample IMDB movies dataset, load this in Redis and finally invoke different types of search queries to get insight from this dataset.\n",
        "We will use the following libraries and frameworks:\n",
        "* Google Colab for hosting Jupyter Notebook\n",
        "* Redis Enterprise Cloud as Vector DB provider\n",
        "* redis-py Python library for Redis\n",
        "* redis-vl Python library for Vector specific tasks\n",
        "* Langchain for other vector management tasks\n",
        "\n"
      ]
    },
    {
      "cell_type": "markdown",
      "id": "6a3cb31d-896a-4ddf-b442-5aa08b59f362",
      "metadata": {
        "id": "6a3cb31d-896a-4ddf-b442-5aa08b59f362"
      },
      "source": [
        "### Install dependencies\n"
      ]
    },
    {
      "cell_type": "code",
      "execution_count": null,
      "id": "31eadbd0-65ba-4461-b26a-f6f75202adb3",
      "metadata": {
        "id": "31eadbd0-65ba-4461-b26a-f6f75202adb3",
        "tags": []
      },
      "outputs": [],
      "source": [
        "!pwd\n",
        "!pip install --upgrade pip\n",
        "# Install required libraries\n",
        "!python3 -m pip -q install redis pandas\n",
        "!pip install -U git+https://github.com/RedisVentures/redisvl.git langchain\n"
      ]
    },
    {
      "cell_type": "markdown",
      "source": [
        "###Configure Redis\n"
      ],
      "metadata": {
        "id": "Tb5GoU1svMqy"
      },
      "id": "Tb5GoU1svMqy"
    },
    {
      "cell_type": "markdown",
      "id": "20ca5271-f204-47b1-ac95-cff91c423826",
      "metadata": {
        "jp-MarkdownHeadingCollapsed": true,
        "id": "20ca5271-f204-47b1-ac95-cff91c423826"
      },
      "source": [
        "#### **Recommended**: Configure Redis Enterprise\n",
        "\n",
        "Here we will leverage Redis Enterprise Cloud available through the GCP marketplace.\n",
        "\n",
        "These are the high level steps for subscribing to Redis Enterprise Cloud database using GCP Marketplace.\n",
        "\n",
        "**Note: For this workshop, each participants will be provided a unique Redis URL. Reach out to the Redis team to get one.**\n",
        "\n",
        "* Log in to GCP Console, navigate to Marketplace and search for Redis Enterprise\n",
        "* Click on the option that displays Redis Enterprise Cloud and subscribe to this\n",
        "* The console will navigate to the Redis Enterprise Cloud URL\n",
        "* Sign up for Redis Enterprise Cloud. The system will ask for confirmation\n",
        "* Finally, create the database with your preferred region. For this exercise, an 'Essential' subscription will be sufficient. Select the Redis Stack\n",
        "* Once the DB is active, note down the URL. This will be needed in the subsequent steps\n"
      ]
    },
    {
      "cell_type": "code",
      "execution_count": null,
      "id": "sjUooyI9VlAu",
      "metadata": {
        "id": "sjUooyI9VlAu"
      },
      "outputs": [],
      "source": [
        "## Update the 'host' field with the correct Redis host URL\n",
        "host = ''\n",
        "port =\n",
        "password = 'admin'\n",
        "requirePass = True\n"
      ]
    },
    {
      "cell_type": "markdown",
      "source": [
        "#### *Alternative: Redis Stack (Community Edition)*\n",
        "\n",
        "In case Redis Enterprise Cloud URL is not available, you need to install Redis Stack (Community edition) using following steps. Uncomment the following lines of code and execute:"
      ],
      "metadata": {
        "id": "0QRRbynewLtE"
      },
      "id": "0QRRbynewLtE"
    },
    {
      "cell_type": "code",
      "execution_count": null,
      "id": "1zTK0KXJUwzX",
      "metadata": {
        "id": "1zTK0KXJUwzX"
      },
      "outputs": [],
      "source": [
        "## Uncomment & execute the following code in case Redis Enterprise is not available\n",
        "##################################################################################\n",
        "\n",
        "# %%sh\n",
        "# curl -fsSL https://packages.redis.io/gpg | sudo gpg --dearmor -o /usr/share/keyrings/redis-archive-keyring.gpg\n",
        "# echo \"deb [signed-by=/usr/share/keyrings/redis-archive-keyring.gpg] https://packages.redis.io/deb $(lsb_release -cs) main\" | sudo tee /etc/apt/sources.list.d/redis.list\n",
        "# sudo apt-get update  > /dev/null 2>&1\n",
        "# sudo apt-get install redis-stack-server  > /dev/null 2>&1\n",
        "# redis-stack-server --daemonize yes\n"
      ]
    },
    {
      "cell_type": "code",
      "source": [
        "## For Redis Stack server, uncomment the following code:\n",
        "# host = 'localhost'\n",
        "# port = 6379\n",
        "# requirePass = False"
      ],
      "metadata": {
        "id": "AIqsawQgw64d"
      },
      "id": "AIqsawQgw64d",
      "execution_count": null,
      "outputs": []
    },
    {
      "cell_type": "markdown",
      "id": "2a14dfc5-f428-4b02-b0f5-9a6e033b2213",
      "metadata": {
        "jp-MarkdownHeadingCollapsed": true,
        "id": "2a14dfc5-f428-4b02-b0f5-9a6e033b2213"
      },
      "source": [
        "#### Create Redis connection object\n"
      ]
    },
    {
      "cell_type": "code",
      "execution_count": null,
      "id": "4UnZUjIFVxWA",
      "metadata": {
        "id": "4UnZUjIFVxWA"
      },
      "outputs": [],
      "source": [
        "import redis\n",
        "\n",
        "if requirePass:\n",
        "    client = redis.Redis(host = host, port=port, decode_responses=True, password=password)\n",
        "    url = f'redis://:{password}@{host}:{port}'\n",
        "else:\n",
        "    client = redis.Redis(host = 'localhost', decode_responses=True)\n",
        "    url = f'redis://{host}:{port}'\n",
        "\n",
        "print(client.ping())\n",
        "# Clear Redis database (optional)\n",
        "client.flushdb()\n",
        "\n"
      ]
    },
    {
      "cell_type": "markdown",
      "source": [
        "### Text Vector Embedding\n",
        "\n",
        "Text embeddings are a dense vector representation of a piece of content such that, if two pieces of content are semantically similar, their respective embeddings are located near each other in the embedding vector space. This representation can be used to solve common NLP tasks, such as:\n",
        "\n",
        "* Semantic search: Search text ranked by semantic similarity.\n",
        "* Recommendation: Return items with text attributes similar to the given text.\n",
        "* Classification: Return the class of items whose text attributes are similar to the given text.\n",
        "* Clustering: Cluster items whose text attributes are similar to the given text.\n",
        "* Outlier Detection: Return items where text attributes are least related to the given text.\n"
      ],
      "metadata": {
        "id": "0XkE1ZQByq46"
      },
      "id": "0XkE1ZQByq46"
    },
    {
      "cell_type": "markdown",
      "id": "c3575a83-7bb1-44d8-9c6a-6b912207702e",
      "metadata": {
        "jp-MarkdownHeadingCollapsed": true,
        "id": "c3575a83-7bb1-44d8-9c6a-6b912207702e"
      },
      "source": [
        "#### **Recommended: Google Vertex AI Text Embedding model**\n",
        "\n",
        "Authenticate with GCP & set project id and region\n",
        "For this session, it is recommneded to use API of Vertex AI Embedding model to create embeddings for our dataset.\n",
        "\n",
        "Before doing that we must authenticate with GCP and get the suitable Google Project Id and Region"
      ]
    },
    {
      "cell_type": "code",
      "execution_count": null,
      "id": "_38Ye7niWPZR",
      "metadata": {
        "id": "_38Ye7niWPZR"
      },
      "outputs": [],
      "source": [
        "## Authenticate with GCP & set project id and region\n",
        "from google.colab import auth\n",
        "from getpass import getpass\n",
        "\n",
        "auth.authenticate_user()\n",
        "print('Authenticated')\n",
        "\n",
        "# input your GCP project ID and region for Vertex AI\n",
        "PROJECT_ID = getpass(\"PROJECT_ID:\")\n",
        "REGION = 'us-central1' #input(\"REGION:\")\n",
        "\n",
        "print(f'PROJECT_ID: {PROJECT_ID} & REGION: {REGION}')\n"
      ]
    },
    {
      "cell_type": "code",
      "source": [
        "#@title We will use redis-vl library to interact with the embedding model\n",
        "## Select embedding model provider as \"textembedding-gecko@003\"\n",
        "\n",
        "from redisvl.utils.vectorize import VertexAITextVectorizer\n",
        "\n",
        "vectorizer = VertexAITextVectorizer(\n",
        "    model = \"textembedding-gecko@003\",\n",
        "    api_config = {\"project_id\": PROJECT_ID, \"location\": REGION}\n",
        ")"
      ],
      "metadata": {
        "id": "kXDq-nF2z_Mv"
      },
      "id": "kXDq-nF2z_Mv",
      "execution_count": null,
      "outputs": []
    },
    {
      "cell_type": "markdown",
      "source": [
        "#### *Alternative: Sentence-Transformer Text Embedding model*\n",
        "\n",
        "In case GCP's Vertex AI Text embedding model is not available, you may also use Sentence-Transformer model.\n"
      ],
      "metadata": {
        "id": "75ZP4b8r0T7Q"
      },
      "id": "75ZP4b8r0T7Q"
    },
    {
      "cell_type": "code",
      "source": [
        "#@title Install sentence-transformers library\n",
        "\n",
        "# Uncomment the following line of code in order to use sentence-transformers model\n",
        "#!pip install sentence-transformers"
      ],
      "metadata": {
        "id": "5KGfVdyj2kgg"
      },
      "id": "5KGfVdyj2kgg",
      "execution_count": null,
      "outputs": []
    },
    {
      "cell_type": "code",
      "source": [
        "#@title We will use redis-vl library for interacting with embedding model\n",
        "## Select embedding model provider as \"sentence-transformers/all-mpnet-base-v2\"\n",
        "\n",
        "# Uncomment the following lines of code in order to use sentence-transformers model\n",
        "\n",
        "# import os\n",
        "# os.environ[\"TOKENIZERS_PARALLELISM\"] = \"false\"\n",
        "# from redisvl.utils.vectorize import HFTextVectorizer\n",
        "\n",
        "# vectorizer = HFTextVectorizer(model=\"sentence-transformers/all-mpnet-base-v2\")\n"
      ],
      "metadata": {
        "id": "FlD-ShHP24e6"
      },
      "id": "FlD-ShHP24e6",
      "execution_count": null,
      "outputs": []
    },
    {
      "cell_type": "markdown",
      "id": "4eefca29-7d01-49b9-b454-311c495ae780",
      "metadata": {
        "jp-MarkdownHeadingCollapsed": true,
        "id": "4eefca29-7d01-49b9-b454-311c495ae780"
      },
      "source": [
        "### Download the sample dataset - IMDB dataset\n",
        "We will be using a sample IMDB Movies dataset available from Kaggle.\n",
        "Next, we will load it into Pandas Dataframe and investigate the column and its data-type."
      ]
    },
    {
      "cell_type": "code",
      "execution_count": null,
      "id": "cnEl0UcxWV5w",
      "metadata": {
        "id": "cnEl0UcxWV5w"
      },
      "outputs": [],
      "source": [
        "!wget https://storage.googleapis.com/abhi-data-2024/MOVIES.csv -O movies.csv\n"
      ]
    },
    {
      "cell_type": "code",
      "execution_count": null,
      "id": "-B_EHwP7ouXf",
      "metadata": {
        "id": "-B_EHwP7ouXf"
      },
      "outputs": [],
      "source": [
        "import pandas as pd\n",
        "\n",
        "df = pd.read_csv('movies.csv')\n"
      ]
    },
    {
      "cell_type": "code",
      "execution_count": null,
      "id": "0eKd397MpNoF",
      "metadata": {
        "id": "0eKd397MpNoF"
      },
      "outputs": [],
      "source": [
        "df.describe()"
      ]
    },
    {
      "cell_type": "code",
      "source": [
        "# Truncate the 'overview' field for the long descriptions\n",
        "df['overview_len'] = df['overview'].str.len()\n",
        "df['overview'] = df['overview'].apply(lambda x: x[:300])\n",
        "df.head(5)"
      ],
      "metadata": {
        "id": "ata9nM3NoM3W"
      },
      "id": "ata9nM3NoM3W",
      "execution_count": null,
      "outputs": []
    },
    {
      "cell_type": "markdown",
      "source": [
        "### Create Embeddings\n",
        "We will now create vector embeddings of \"overview\" field present in Movies dataset and modify the existing python dataframe"
      ],
      "metadata": {
        "id": "ovglpkNz33Of"
      },
      "id": "ovglpkNz33Of"
    },
    {
      "cell_type": "code",
      "execution_count": null,
      "id": "EWk6LVli3Ae_",
      "metadata": {
        "id": "EWk6LVli3Ae_"
      },
      "outputs": [],
      "source": [
        "## 1. Create embeddings for the 'overview' column in movies' Dataframe\n",
        "## 2. Store these embeddings in a new column 'overview_embedding'\n",
        "## 3. Finally, append this new embeddings column in the existing dataframe\n",
        "\n",
        "#embeddings = vectorizer.embed_many([element for element in df['overview']]) ## This may encounter quota issue\n",
        "embeddings = vectorizer.embed_many(df['overview'].tolist(), batch_size=200)\n",
        "df.insert(len(df.columns)-1, \"overview_embedding\", embeddings)\n",
        "df.head()"
      ]
    },
    {
      "cell_type": "markdown",
      "id": "45de29db-4482-4b61-acea-0fe61fc78757",
      "metadata": {
        "id": "45de29db-4482-4b61-acea-0fe61fc78757",
        "jp-MarkdownHeadingCollapsed": true
      },
      "source": [
        "### Store the dataframe in Redis database\n",
        "Once done, we will move to the next part of our exercise which is creating the suitable indexes.\n",
        "We will use these indexes to build:\n",
        "* VSS queries\n",
        "* Standard search query\n",
        "* Hybrid queries\n"
      ]
    },
    {
      "cell_type": "code",
      "execution_count": null,
      "id": "_O2o-eiVlKX3",
      "metadata": {
        "id": "_O2o-eiVlKX3"
      },
      "outputs": [],
      "source": [
        "## Store the Dataframe in Redis\n",
        "import json\n",
        "\n",
        "pipeline = client.pipeline()\n",
        "\n",
        "for index, row in df.iterrows():\n",
        "    redis_key = f\"doc:{index}\"\n",
        "    pipeline.json().set(redis_key, '$', row.to_dict())\n",
        "\n",
        "pipeline.execute()"
      ]
    },
    {
      "cell_type": "code",
      "execution_count": null,
      "id": "A6H_vHkrSxco",
      "metadata": {
        "id": "A6H_vHkrSxco"
      },
      "outputs": [],
      "source": [
        "## Verify of the record is presentin Redis\n",
        "print(client.json().get('doc:4', '$.overview_embedding'))"
      ]
    },
    {
      "cell_type": "markdown",
      "id": "e94a2cd7-9f59-4b69-8db5-d0b1ab31e8b4",
      "metadata": {
        "id": "e94a2cd7-9f59-4b69-8db5-d0b1ab31e8b4",
        "jp-MarkdownHeadingCollapsed": true
      },
      "source": [
        "### Create Indexes in Redis\n",
        "Now is the time to query Redis database. For that we will create few indexes using __redis-vl__ Python library.\n",
        "<br>Redis offers an enhanced Redis experience via the following search and query features:\n",
        "\n",
        "* A rich query language\n",
        "* Incremental indexing on JSON and hash documents\n",
        "* Vector search\n",
        "* Full-text search\n",
        "* Geospatial queries\n",
        "* Aggregations\n",
        "* You can find a complete list of features here: https://redis.io/docs/latest/develop/interact/search-and-query/advanced-concepts/\n",
        "\n",
        "The search and query features of Redis Stack allow you to use Redis as a:\n",
        "\n",
        "* Document database\n",
        "* Vector database\n",
        "* Secondary index\n",
        "* Search engine\n"
      ]
    },
    {
      "cell_type": "code",
      "execution_count": null,
      "id": "xaHEwARC1XrT",
      "metadata": {
        "id": "xaHEwARC1XrT"
      },
      "outputs": [],
      "source": [
        "## create index using redis-vl Python library.\n",
        "\n",
        "from redisvl.schema import IndexSchema\n",
        "from redisvl.index import SearchIndex\n",
        "\n",
        "\n",
        "index_name = \"idx_movie\"\n",
        "\n",
        "schema = IndexSchema.from_dict({\n",
        "  \"index\": {\n",
        "    \"name\": index_name,\n",
        "    \"prefix\": \"doc:\",\n",
        "    \"storage_type\": \"json\"\n",
        "  },\n",
        "  \"fields\": [\n",
        "    {\n",
        "        \"name\": \"budget\",\n",
        "        \"type\": \"numeric\",\n",
        "        \"attrs\": {\n",
        "            \"sortable\": True\n",
        "        }\n",
        "    },\n",
        "    {\n",
        "        \"name\": \"original_title\",\n",
        "        \"type\": \"text\"\n",
        "    },\n",
        "    {\n",
        "        \"name\": \"overview\",\n",
        "        \"type\": \"text\"\n",
        "    },\n",
        "    {\n",
        "        \"name\": \"revenue\",\n",
        "        \"type\": \"numeric\"\n",
        "    },\n",
        "    {\n",
        "        \"name\": \"vote_count\",\n",
        "        \"type\": \"numeric\",\n",
        "        \"attrs\": {\n",
        "            \"sortable\": True\n",
        "        }\n",
        "    },\n",
        "    {\n",
        "        \"name\": \"popularity\",\n",
        "        \"type\": \"numeric\",\n",
        "        \"attrs\": {\n",
        "            \"sortable\": True\n",
        "        }\n",
        "    },\n",
        "    {\n",
        "        \"name\": \"overview_embedding\",\n",
        "        \"type\": \"vector\",\n",
        "        \"attrs\": {\n",
        "            \"dims\": vectorizer.dims,\n",
        "            \"distance_metric\": \"cosine\",\n",
        "            \"algorithm\": \"flat\",\n",
        "            \"datatype\": \"float32\"\n",
        "        }\n",
        "    }\n",
        "  ]\n",
        "})"
      ]
    },
    {
      "cell_type": "code",
      "execution_count": null,
      "id": "npCpJyW8av_m",
      "metadata": {
        "id": "npCpJyW8av_m"
      },
      "outputs": [],
      "source": [
        "print(vectorizer.dims)"
      ]
    },
    {
      "cell_type": "code",
      "execution_count": null,
      "id": "E8xbI7kj5MxN",
      "metadata": {
        "id": "E8xbI7kj5MxN"
      },
      "outputs": [],
      "source": [
        "# Create an index from schema and the client\n",
        "index = SearchIndex(schema, client)\n",
        "index.create(overwrite=True, drop=True)"
      ]
    },
    {
      "cell_type": "code",
      "execution_count": null,
      "id": "Sos3lmPTDG8_",
      "metadata": {
        "id": "Sos3lmPTDG8_"
      },
      "outputs": [],
      "source": [
        "#@title redis-rvl library also provides CLI support as well. You can get the information of created indexes using following commands\n",
        "\n",
        "!rvl index listall -u $url\n",
        "\n",
        "!# inspect the index fields\n",
        "!rvl index info -i idx_movie -u $url\n"
      ]
    },
    {
      "cell_type": "markdown",
      "id": "fdeab0db-b743-4580-a473-536601785375",
      "metadata": {
        "id": "fdeab0db-b743-4580-a473-536601785375",
        "jp-MarkdownHeadingCollapsed": true
      },
      "source": [
        "### Querying Redis\n",
        "Now is the time to query Redis database. Again we will use __redis-vl__ Python library to achieve this.\n",
        "<br>We will invoke following types of queries against our records present in Redis:\n",
        "\n",
        "* VSS queries\n",
        "* Standard search query\n",
        "* Hybrid queries\n"
      ]
    },
    {
      "cell_type": "markdown",
      "metadata": {
        "jp-MarkdownHeadingCollapsed": true,
        "id": "eU7bDcK3hspR"
      },
      "source": [
        "#### Pure VSS(KNN) and Hybrid Query\n",
        "Let's search for something in Redis that has semantically similar meaning to what is being asked. We will first vectorise the input question/query and search within `overview_embeddings` column to fetch the records which has potentially similar meaning.\n",
        "<br> Pure KNN queries scans through the entire search space which might take relatively longer time to execute. Depending on our use case, we can restrict this search space by providing filter conditions. Following examples discuss all these scenarios."
      ],
      "id": "eU7bDcK3hspR"
    },
    {
      "cell_type": "code",
      "execution_count": null,
      "id": "hWNrbYuzDaMA",
      "metadata": {
        "id": "hWNrbYuzDaMA"
      },
      "outputs": [],
      "source": [
        "#@title [Example 1] Pure KNN & Hybrid queries\n",
        "\n",
        "from redisvl.query import VectorQuery\n",
        "from redisvl.query.filter import Num\n",
        "\n",
        "## Input queries which would be used for our example searches\n",
        "queries = [\n",
        "    \"movies showing struggle\",\n",
        "    \"woman with a secret on a dangerous mission\",\n",
        "    \"man wrongly charged with murder\",\n",
        "    \"a boy falls in love with a girl\",\n",
        "    \"showing a magical, enchanted or fantasy world\",\n",
        "    \"a sci fi thriller or adventure movie\",\n",
        "    \"movie with a murder mystery\",\n",
        "    \"based on shakespeare play\",\n",
        "    \"war based movies\"\n",
        "]\n",
        "\n",
        "def getVectorQuery(query):\n",
        "  vote_count_filter = Num(\"vote_count\") > 1\n",
        "\n",
        "  query_embedding = vectorizer.embed(query)\n",
        "\n",
        "  vector_query = VectorQuery(\n",
        "      vector=query_embedding,\n",
        "      vector_field_name=\"overview_embedding\",\n",
        "      num_results=5,\n",
        "      return_fields=[\"original_title\", \"overview\", \"popularity\", \"revenue\", \"vote_count\"],\n",
        "      return_score=True,\n",
        "      filter_expression=vote_count_filter\n",
        "  )\n",
        "  # show the raw redis query\n",
        "  str(vector_query)\n",
        "  return vector_query\n"
      ]
    },
    {
      "cell_type": "code",
      "execution_count": null,
      "id": "bpsV53qbFUXI",
      "metadata": {
        "id": "bpsV53qbFUXI"
      },
      "outputs": [],
      "source": [
        "# execute the query with RedisVL\n",
        "print(json.dumps(index.query(getVectorQuery(queries[6])), indent=2))"
      ]
    },
    {
      "cell_type": "markdown",
      "metadata": {
        "jp-MarkdownHeadingCollapsed": true,
        "id": "NhxJ75oQjmOw"
      },
      "source": [
        "#### Standard Query\n",
        "Now we have seen how VSS query works. Let's also try some standard redis Search queries. For that, we will create a new index and invoke few queries against the newly created index."
      ],
      "id": "NhxJ75oQjmOw"
    },
    {
      "cell_type": "code",
      "source": [
        "from redis.commands.search.field import TagField, TextField, NumericField, VectorField\n",
        "from redis.commands.search.indexDefinition import IndexDefinition, IndexType\n",
        "from redis.commands.search.query import Query\n",
        "\n",
        "INDEX_NAME = 'idx_movie_2'\n",
        "DOC_PREFIX = 'doc:'\n",
        "\n",
        "try:\n",
        "    # check to see if index exists\n",
        "    client.ft(INDEX_NAME).info()\n",
        "    print('Index already exists!')\n",
        "except:\n",
        "    # schema\n",
        "    schema = (\n",
        "        TextField('$.original_title', as_name='Title'),\n",
        "        NumericField('$.budget', as_name='budget'),\n",
        "        TextField('$.release_date', as_name='release_date'),\n",
        "        NumericField('$.revenue', as_name='revenue'),\n",
        "        NumericField('$.vote_count', as_name='vote_count'),\n",
        "        NumericField('$.runtime', as_name='runtime'),\n",
        "        TagField('$.day_of_week', as_name='day_of_week')\n",
        "    )\n",
        "\n",
        "    # index Definition\n",
        "    definition = IndexDefinition(prefix=[DOC_PREFIX], index_type=IndexType.JSON)\n",
        "\n",
        "    # create Index\n",
        "    client.ft(INDEX_NAME).create_index(fields=schema, definition=definition)\n",
        "\n",
        "\n",
        "## Utility function to format the returned documents in tabuler format\n",
        "def format_result(docs):\n",
        "  df2 = pd.DataFrame(columns=['Title','Budget','Release Date',\n",
        "                              'Revenue','Votes','Runtime','Day of Week'])\n",
        "  for d in docs:\n",
        "    df2.loc[len(df2.index)] = {\"Title\": d.Title, \"Budget\": d.budget,\n",
        "                             \"Release Date\": d.release_date, \"Revenue\": d.revenue,\n",
        "                             \"Votes\": d.vote_count, \"Runtime\": d.runtime, \"Day of Week\": d.day_of_week}\n",
        "  return df2"
      ],
      "metadata": {
        "id": "DSdUYnX8H_wh"
      },
      "id": "DSdUYnX8H_wh",
      "execution_count": null,
      "outputs": []
    },
    {
      "cell_type": "code",
      "source": [
        "######################################################## Example 1 ###################################\n",
        "#@title [Example 2] Get all movies having a maximum budget of $ 1M that released on Friday\n",
        "##\n",
        "## Query --> FT.SEARCH idx_movie_2 '@budget:[0 1000000] @day_of_week: {Friday}' RETURN 7 'Title' 'budget' 'release_date' 'revenue' 'vote_count'  'runtime' 'day_of_week'\n",
        "##\n",
        "qry = Query('@budget:[1000000 10000000] @day_of_week: {Friday}').return_fields('Title', 'budget', 'release_date', 'revenue', 'vote_count', 'runtime', 'day_of_week')\n",
        "\n",
        "docs = client.ft(INDEX_NAME).search(qry).docs\n",
        "format_result(docs)\n"
      ],
      "metadata": {
        "id": "_mhNub6aMvUl"
      },
      "id": "_mhNub6aMvUl",
      "execution_count": null,
      "outputs": []
    },
    {
      "cell_type": "code",
      "source": [
        "############################## Example 2 #############################################################\n",
        "#@title [Example 3] Get the maximum number of votes which a movie got that released on Friday\n",
        "##\n",
        "## Query --> FT.aggregate idx_movie_2 '@day_of_week: {Friday}' groupby 0 reduce max 1 @vote_count as maximum_votes\n",
        "##\n",
        "from redis.commands.search.aggregation import AggregateRequest\n",
        "from redis.commands.search.reducers import max\n",
        "\n",
        "req = AggregateRequest(\"@day_of_week: {Friday}\").group_by([], max('vote_count').alias(\"maximum_votes\"))\n",
        "client.ft(INDEX_NAME).aggregate(req).rows\n",
        "\n"
      ],
      "metadata": {
        "id": "khuhsaw5lmFf"
      },
      "id": "khuhsaw5lmFf",
      "execution_count": null,
      "outputs": []
    },
    {
      "cell_type": "code",
      "source": [
        "############################## Example 3 ##############################################################\n",
        "#@title [Example 4] If you want to find the most popular movie that released on Friday (based on the no of vote it received), use following query:\n",
        "##\n",
        "## Query --> FT.SEARCH idx_movie_2 '@day_of_week: {Friday}' sortby 'vote_count' desc RETURN 7 'Title' limit 0 1\n",
        "##\n",
        "qry = Query('@day_of_week: {Friday}').sort_by(asc=False, field='vote_count').return_fields('Title').paging(0, 1)\n",
        "client.ft(INDEX_NAME).search(qry).docs\n"
      ],
      "metadata": {
        "id": "2SVy10tJudSV"
      },
      "id": "2SVy10tJudSV",
      "execution_count": null,
      "outputs": []
    }
  ],
  "metadata": {
    "colab": {
      "provenance": []
    },
    "kernelspec": {
      "display_name": "Python 3 (ipykernel)",
      "language": "python",
      "name": "python3"
    },
    "language_info": {
      "codemirror_mode": {
        "name": "ipython",
        "version": 3
      },
      "file_extension": ".py",
      "mimetype": "text/x-python",
      "name": "python",
      "nbconvert_exporter": "python",
      "pygments_lexer": "ipython3",
      "version": "3.11.9"
    }
  },
  "nbformat": 4,
  "nbformat_minor": 5
}