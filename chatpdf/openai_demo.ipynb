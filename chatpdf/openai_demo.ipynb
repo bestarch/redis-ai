{
  "cells": [
    {
      "cell_type": "markdown",
      "source": [
        "**Install required libraries**"
      ],
      "metadata": {
        "id": "YGBWlDOF_dyd"
      },
      "id": "YGBWlDOF_dyd"
    },
    {
      "cell_type": "code",
      "id": "HqRohfRRZgFWtj1zYJIyvR5n",
      "metadata": {
        "tags": [],
        "id": "HqRohfRRZgFWtj1zYJIyvR5n"
      },
      "source": [
        "!pwd\n",
        "!pip install --upgrade pip\n",
        "\n",
        "# Install required libraries\n",
        "!python3 -m pip -q install redis\n",
        "!pip install -U langchain gradio\n",
        "!pip install -U langchain-core\n",
        "!pip install -U langchain-community\n",
        "!pip install -qU pypdf\n",
        "!pip install -U redisvl\n",
        "!pip install openai\n",
        "!pip install -qU langchain-openai"
      ],
      "execution_count": null,
      "outputs": []
    },
    {
      "cell_type": "markdown",
      "source": [
        "**Configure Redis Enterprise**"
      ],
      "metadata": {
        "id": "DmwWKB_B_nvD"
      },
      "id": "DmwWKB_B_nvD"
    },
    {
      "cell_type": "code",
      "source": [
        "## Update the 'host' field with the correct Redis host URL\n",
        "host = ''\n",
        "port = 16533\n",
        "password = 'admin'\n",
        "requirePass = True\n"
      ],
      "metadata": {
        "id": "sjUooyI9VlAu"
      },
      "id": "sjUooyI9VlAu",
      "execution_count": 2,
      "outputs": []
    },
    {
      "cell_type": "code",
      "source": [
        "import redis\n",
        "\n",
        "if requirePass:\n",
        "    client = redis.Redis(host = host, port=port, decode_responses=True, password=password)\n",
        "else:\n",
        "    client = redis.Redis(host = 'localhost', decode_responses=True)\n",
        "\n",
        "print(client.ping())\n",
        "# Clear Redis database (optional)\n",
        "client.flushdb()\n",
        "\n",
        "REDIS_URL = f\"redis://:{password}@{host}:{port}\"\n",
        "INDEX_NAME = f\"idx_qna\""
      ],
      "metadata": {
        "colab": {
          "base_uri": "https://localhost:8080/"
        },
        "id": "4UnZUjIFVxWA",
        "outputId": "3dcba6e1-5fe1-45c7-f730-7ce3008e3385"
      },
      "id": "4UnZUjIFVxWA",
      "execution_count": 3,
      "outputs": [
        {
          "output_type": "stream",
          "name": "stdout",
          "text": [
            "True\n"
          ]
        }
      ]
    },
    {
      "cell_type": "markdown",
      "source": [
        "**Download sample PDF report and create knowledge base**\n",
        "\n",
        "This PDF file will be used to get answers for the questions related to the contexts"
      ],
      "metadata": {
        "id": "kEHH7QYSATFv"
      },
      "id": "kEHH7QYSATFv"
    },
    {
      "cell_type": "code",
      "source": [
        "!wget https://storage.googleapis.com/abhi-data-2024/how_india_shops_online.pdf -O report.pdf\n"
      ],
      "metadata": {
        "id": "cnEl0UcxWV5w",
        "colab": {
          "base_uri": "https://localhost:8080/"
        },
        "outputId": "20f8e561-c075-439a-c738-152d653fe0fb"
      },
      "id": "cnEl0UcxWV5w",
      "execution_count": 4,
      "outputs": [
        {
          "output_type": "stream",
          "name": "stdout",
          "text": [
            "--2025-01-10 18:35:28--  https://storage.googleapis.com/abhi-data-2024/how_india_shops_online.pdf\n",
            "Resolving storage.googleapis.com (storage.googleapis.com)... 142.251.184.207, 108.177.121.207, 209.85.145.207, ...\n",
            "Connecting to storage.googleapis.com (storage.googleapis.com)|142.251.184.207|:443... connected.\n",
            "HTTP request sent, awaiting response... 200 OK\n",
            "Length: 13218601 (13M) [application/pdf]\n",
            "Saving to: ‘report.pdf’\n",
            "\n",
            "report.pdf          100%[===================>]  12.61M  4.42MB/s    in 2.9s    \n",
            "\n",
            "2025-01-10 18:35:33 (4.42 MB/s) - ‘report.pdf’ saved [13218601/13218601]\n",
            "\n"
          ]
        }
      ]
    },
    {
      "cell_type": "code",
      "source": [
        "from langchain.text_splitter import RecursiveCharacterTextSplitter\n",
        "from langchain.document_loaders import UnstructuredURLLoader\n",
        "from langchain.chains import RetrievalQA\n",
        "\n",
        "#from langchain.document_loaders import PyPDFLoader\n",
        "from langchain_community.document_loaders import PyPDFLoader\n",
        "\n",
        "\n",
        "file = \"report.pdf\"\n",
        "\n",
        "# set up the file loader/extractor and text splitter to create chunks\n",
        "text_splitter = RecursiveCharacterTextSplitter(\n",
        "    chunk_size=2500, chunk_overlap=50, add_start_index=True\n",
        ")\n",
        "\n",
        "loader = PyPDFLoader(file)\n",
        "documents = loader.load()\n",
        "\n",
        "chunks = text_splitter.split_documents(documents)\n",
        "#chunked_docs = [doc.page_content for doc in chunks]"
      ],
      "metadata": {
        "id": "-B_EHwP7ouXf"
      },
      "id": "-B_EHwP7ouXf",
      "execution_count": 5,
      "outputs": []
    },
    {
      "cell_type": "code",
      "source": [
        "chunked_docs = [doc.page_content for doc in chunks]\n",
        "\n",
        "print(\"*****\")\n",
        "print(chunked_docs)"
      ],
      "metadata": {
        "colab": {
          "base_uri": "https://localhost:8080/"
        },
        "id": "YrUStfXjniIa",
        "outputId": "4a054a6c-ad32-4229-abdf-94052a0c9bfa"
      },
      "id": "YrUStfXjniIa",
      "execution_count": 6,
      "outputs": [
        {
          "output_type": "stream",
          "name": "stdout",
          "text": [
            "*****\n",
            "['PwC | How India shops online: Consumer preferences in the metropolises and tier 1-4 cities\\n1 \\nHow India \\nshops online:', 'PwC | How India shops online: Consumer preferences in the metropolises and tier 1-4 cities\\n2 \\nTable of contents\\n3 6 8\\nForeword About this report Executive summary: \\nUnderstanding the \\nshopping experience \\nand behaviour of urban \\ndwellers and the rest of \\nIndia\\n18\\n19\\n48\\nFrom fashion to \\ngourmet food: \\nExploring trends \\nacross categories \\nFashion and accessories\\nSports and fitness\\nElectronics\\nHome and kitchen \\nBeauty and personal care\\nHealth and wellness\\nGrocery\\nSmall towns can drive big \\nbusiness\\nPwC | How India shops online: Consumer preferences in the metropolises and tier 1– 4 cities 2  \\n23\\n27\\n31\\n35\\n40\\n44', 'PwC | How India shops online: Consumer preferences in the metropolises and tier 1-4 cities\\n3 \\nForeword\\nIn the past few years, about 12.5 crore 1 consumers in India shopped online for the first time \\nand since then, they have continued to use e-commerce platforms. These consumers – \\nprimarily from tier-2, 3 and 4 cities – differ in digital literacy, infrastructure, social and cultural \\nfactors from the urban populace, who are accustomed to shopping online. \\nOnline shopping is not just a convenience but a lifeline for millions of consumers in India, \\nespecially in tier-2 and 3 cities, where the availability of the latest and popular products \\nin physical stores is limited. These consumers are the drivers of a retail revolution in the \\ncountry. In the festive season of 2023, consumers from tier-2, 3 and 4 cities contributed to \\nmore than 80% of sales for Meesho and Amazon 2 highlighting a major opportunity for brands \\nto tap into the growing aspirations and needs of consumers from these markets.  \\nOrganisations which serve our vast, diverse nation know how India changes every 100 \\nkilometres – not only in terms of language, dialect and culture but also in consumer \\nbehaviour (motivations, pain points and preferences). However, there is a lack of \\ncomprehensive and reliable data and insights on the online shopping behaviour of Indian \\nconsumers, and the challenges and opportunities across regions. This hinders the \\ndevelopment of effective customer-centric strategies and offerings. \\n1 https://www.ibef.org/industry/ecommerce-presentation\\n2 https://retail.economictimes.indiatimes.com/news/e-commerce/e-tailing/non-metros-dominate-online-festival-sale-across-amazon-meesho-\\nflipkart/104329498', 'PwC | How India shops online: Consumer preferences in the metropolises and tier 1-4 cities\\n4 \\nHighly value-conscious, the average Indian consumer wants the best deals, loyalty \\nprogrammes, referral schemes and discounts which not only reward their purchases but \\nalso encourages them to further explore the online shopping experience. A customer-\\ncentric approach utilising data, technology and innovation is required to address the distinct \\nneeds and expectations of these customers at scale. Consumers are not only influenced \\nby online channels, but also by offline touchpoints such as word-of-mouth, influencers and \\ntheir favourite local store(s). To meet these expectations, it is essential to offer a seamless \\nexperience by integrating customer support across multiple channels, implementing loyalty \\nprogrammes and consistently improving the app using real-time inventory management, \\nin-store Wi-Fi, mobile apps, and training the employees. This approach allows businesses to \\nleverage the benefits of both online and offline channels, creating a cohesive and convenient \\nexperience for customers. \\nThis report is based on an online survey of 2,100 people, 100 qualitative interviews, and 400 \\nin-person interviews across India with leading experts and industry partners. The insights \\nderived from the report highlight the similarities and differences in the purchasing habits, \\nchoices and mindsets of online shoppers across the country. \\nThis report is based on an online survey of 2,100 people, 100 qualitative \\ninterviews, and 400 in-person interviews across India with leading experts and \\nindustry partners. The insights derived from the report highlight the similarities and \\ndifferences in the purchasing habits, choices and mindsets of online shoppers \\nacross the country. \\n50% of consumers in metros and tier-1 cities value quick delivery, while for 54% of \\nconsumers in tier-2, 3 and 4 cities, deals and offers take precedence.\\nWith increasing financial independence, women’s shopping behaviour shifted from \\nsocial to individualistic across geographies as per our survey. \\nFake reviews of health and wellness products deter over 42% of tier-2, 3 and 4 \\ncities’ shoppers from making purchases in this category. They also prefer buying \\nthese products online since there are concerns related to the authenticity of these \\nproducts in brick-and-mortar stores. \\nSome of the key findings include the following:', 'PwC | How India shops online: Consumer preferences in the metropolises and tier 1-4 cities\\n5 \\nThis report aims to understand the pulse of India’s diverse consumer base and provide \\ninsights into their behaviour. We hope that the findings resonate with you and help you \\ndevelop the next wave of innovations which can serve the Indian retail sector. \\nRavi Kapoor \\nPartner and Retail and \\nConsumer Goods Leader \\nPwC India \\nMore than 60% of our respondents preferred to shop using an app rather than \\nusing any website. There was a clear preference for marketplace apps since they \\ncater to many categories.\\nYouTube emerged as a clear winner when it comes to a reliable platform (discovery, \\ninformation, usage experience and unboxing videos) for making buying choices.\\n \\nInterestingly, Gen Z prefers cash on delivery (CoD) in tier-2, 3 and 4 cities.\\nDisclaimer: This report and all its stats and findings are an output of primary data collected specifically for this report along with secondary sources as \\nmentioned. \\nSomick Goswami\\nPartner and Business \\nTransformation Leader \\nPwC India\\nPrateek Sinha \\nPartner and Experience \\nConsulting Leader \\nPwC India', 'PwC | How India shops online: Consumer preferences in the metropolises and tier 1-4 cities\\n6 \\nThe report is a starting point for businesses to initiate vital conversations that, in turn, will \\nlead to the development of an e-commerce strategy tailored to meet the unique needs \\nand aspirations of non-metro consumers. It can also be a reference point and guide \\nfor businesses to make informed decisions and actions to tap into the dynamics of the \\necommerce landscape in the non-metro region.\\nWhile urban dwellers (metros and \\ntier-1 cities) have traditionally dominated \\nthe online shopping scene, the rest of \\nIndia, comprising tier-2, 3, and 4 cities, is \\nemerging as a formidable force. \\nTo unlock the hows and whys of this \\nshift, we conducted over 100 in-person \\nqualitative interviews, followed by a \\nsurvey of 2,600 people across India from \\nNovember 2023 to January 2024. \\nAbout this report\\n2,600 +\\nRespondents\\n35\\nCities50:50\\nMale to female\\nrespondents’ \\nratio\\nFigure 1: Sample coverage', 'PwC | How India shops online: Consumer preferences in the metropolises and tier 1-4 cities\\n7 \\nThe sample, comprising an equal number of male and female respondents, covered a range \\nof socio-economic backgrounds and age groups (Gen Z, early–millennials, late–millennials \\nand Generation X). Geographically, the survey spanned: \\nWe analysed how these consumers engage with categories such as fashion and \\naccessories, grocery, electronics, sports and fitness, home and kitchen, beauty and personal \\ncare and health and wellness.  \\nHaving captured the voice of the consumer through our extensive survey, this report delves \\ninto key drivers and barriers shaping the online shopping behaviour of the rest of India vis-à-\\nvis urban dwellers: \\nWhat motivates them to buy online? \\nWhat are the benefits they seek and challenges they face? \\nHow do they perceive online shopping?  \\nUrban dwellers  \\nMetro (population over 50 lakhs) and Tier 1 (population between 10–50 lakhs): Mumbai, \\nDelhi, Bangalore, Chennai, Kolkata, Hyderabad, Surat, Nashik, Nagpur, Bhopal, Allahabad, \\nJaipur, Madurai, Mysore, Kochi, Bhubaneswar, Indore, Chandigarh\\nRest of India \\nTier 2/3/4: Aizawl, Sangli, Solapur, Jhansi, Ferozabad, Nellore, Kasaragod, Siliguri, Sagar, \\nDarjeeling, Hingoli, Nagda, Bhatinda, Sohna, Thiruvallur, Idukki, Sahibganj\\nPwC | How India shops online: Consumer preferences in the metropolises and tier 1– 4 cities 7', 'PwC | How India shops online: Consumer preferences in the metropolises and tier 1-4 cities\\n8 \\nFigure 2: Average basket size based on last purchase\\nExecutive summary: Understanding the \\nshopping experience and behaviour of \\nurban dwellers and the rest of India \\nBeyond the urban landscape, a \\nnew trend is rapidly unfolding in \\nIndia – tier-2, 3, and 4 cities – where \\naspirations have begun to surge, \\nand shopping habits are undergoing \\na transformation. Today, consumers \\nfrom rest of India are dedicating more \\ntime to shopping, with order volumes \\nin tier-2 and 3 cities expanding by \\nmore than 60% 3  compared to previous \\nyears. As India’s e-commerce narrative \\nevolves, it is crucial to observe these \\nbehavioural changes. \\nSource: PwC analysis\\n3 https://www.livemint.com/companies/news/tier-2-3-regions-grab-a-larger-pie-of-e-com-market-11671380417276.html \\nUrban dwellers Rest of Indi a\\nBase: Urban dwellers - 1,994; Rest of India - 1,304\\nAbsolute values in INR\\nHome and \\nkitchen\\nHealth and \\nwellness\\nSports and \\nfitness\\n0\\n1,000\\n2,000\\n3,000\\n4,000\\n5,000\\n6,000\\n7,000\\n5,057\\n6,097\\n749 795 798 780', 'PwC | How India shops online: Consumer preferences in the metropolises and tier 1-4 cities\\n9 \\nOur study reveals a significant shift – \\nregardless of location, the increasing financial \\nindependence of women is changing their \\nshopping behaviour. For categories of home and \\nkitchen and electronics, buying big ticket items \\nonline is primarily a household decision.  \\nAs both urban dwellers and rest of India \\nembrace e-commerce, spending4 more time \\neach day on digital retail platforms, our survey \\nfound fascinating insights that span beyond \\nconveniences of 10-minute or same day \\ndeliveries which is driving consumers to shop \\nonline.\\nIn densely populated urban areas, consumers \\noften come across excessive weekend crowds \\nat malls and limited product variety within \\nphysical stores. The absence of premium \\nbrands and the persistent push given to some \\nproducts by sales staff who often lack product \\nknowledge has further fuelled the migration of \\nthe consumers to online shopping platforms in \\nrest of India consumers. Frequent stockouts for \\nspecific brands has been an additional cause of \\nfrustration for consumers. \\nIn contrast, consumers from rest of India face \\nanother set of challenges, including limited \\naccess to a wide range of products and brands \\nin local stores. This often restricts their choices. \\nAdditionally, unavailability of attractive offers \\nand discounts and other incentives has pushed \\nprice-conscious consumers in rest of India to \\nexplore digital avenues.  \\n4 https://www.businesstoday.in/latest/corporate/story/indians-spent-87-billion-hours-on-shopping-apps-in-2022 report-366927-2023-01-20', 'PwC | How India shops online: Consumer preferences in the metropolises and tier 1-4 cities\\n10 \\nHowever, both segments share some common motivators for purchasing online. Planned \\npurchases with specific timelines are often satisfied online due to the wider range of price \\noptions and brands available. Let us delve into some of those nuances.  \\nMotivators for shopping online: The absence of physical stores for premium brands, \\nstockouts of certain products, and a lack of knowledgeable staff in offline stores are the \\nmain reasons why the rest of India consumers opt for online shopping. On the other hand, \\nthe lack of discounts and special offers in physical stores, along with large crowds in \\nmalls during weekends are some of the reasons why urban dwellers prefer to shop online. \\nBrowsing through online shopping platforms during free time also triggers online purchase in \\nboth urban dwellers and rest of India.  \\nRole of social media on trials: Social media has amplified the awareness and aspirations \\nand 62% of respondents tried products after seeing them (perhaps repeatedly) on Facebook \\nand Instagram. As the preferences of rest of India shifts from TV and radio to digital \\navenues, social media becomes the most preferred channel for encouraging trials of new \\nproducts. Interestingly, amongst urban dwellers, online communities lead to more trial than \\nTV. WhatsApp, YouTube and Instagram have a universal appeal and are the most preferred \\nsocial media platforms for urban dwellers and rest of India.\\nFigure 3: New product/brand trials \\nSource: PwC analysis Base: Urban dwellers - 1,890; Rest of India - 1,408\\nUrban dwellers Rest of Indi a\\n58%\\n68%\\n56%\\n61%\\n50%\\n55%\\n0%\\n10%\\n20%\\n30%\\n40%\\n50%\\n60%\\n70%\\n80%\\nT ried it after seeing it on \\nsocial media (Facebook,  \\nY outube, Instagram, etc.)\\nWa s recommended by \\nmembers of an online \\ncommunity that I am part o f\\nSeen its advertisement  \\non TV', 'PwC | How India shops online: Consumer preferences in the metropolises and tier 1-4 cities\\n11 \\nWhat makes an app/platform a shoppers’ favourite: Urban dwellers, who prioritise speed \\nin online shopping, are particularly drawn to prompt delivery services which meets their \\ndemand for instant gratification and are willing to pay a premium price for the same. But \\nconsumers in rest of India are keener on deals. These consumers are bargain and discount \\nhunters.\\nFigure 4: Factors leading to stickiness\\nPwC | How India shops online: Consumer preferences in the metropolises and tier 1– 4 cities 11 \\nSource: PwC analysis Base: Urban dwellers - 1,890; Rest of India - 1,408\\nUrban dwellers Rest of Indi a\\nAttractive prices\\nAttractive of fers/discount s\\nQuick deliver y\\nEasy to exchnage/return\\nProvides quick exchange/return\\nBrand trust and re liability\\nConvenience of shopping anytime, anywhere\\nComfort and familiarity developed over tim e\\nLike the overall experience of using it\\nEf ficient customer care\\nEasy payment options\\n0% 10% 20% 30% 40% 50% 60%\\n46%\\n48%\\n41%\\n41%\\n41%\\n44%\\n47%\\n42%\\n44%\\n46%\\n38%\\n35%\\n37%\\n37%\\n33%\\n37%\\n50%\\n54%\\n49%\\n43%\\n54%\\n54%', 'PwC | How India shops online: Consumer preferences in the metropolises and tier 1-4 cities\\n12 \\nMost purchased category: Interestingly, the rest of India appears to be leading the \\npurchases in the sports and fitness, home and kitchen, and health and wellness categories, \\nwhereas urban residents focus more on grocery, electronics and fashion. The rise of social \\nmedia has played a significant role in increasing awareness of these products and with an \\nincrease in demand, the platforms introduced new and affordable products to these cities. \\nAs incomes in rest of India improved so did the spending on these categories.  \\nFigure 5: Categories purchased\\nPwC | How India shops online: Consumer preferences in the metropolises and tier 1– 4 cities 12  \\nSource: PwC analysis\\n29%\\n21% 19%\\n12%\\n8% 6%\\n5%\\n16%\\n19%\\n17%\\n13%\\n11%\\n13%\\n10%\\n0%\\n5%\\n10%\\n15%\\n20%\\n25%\\n30%\\n35%\\nGr ocery Fashion and \\naccessories\\nElectr onics \\nand consumer \\ndurables\\nBeauty and \\npersonal care\\nHealth and \\nwellness\\nHome and \\nkitchen\\nSports and \\nfitness\\nUrban dwellers Rest of Indi a\\nBase: Urban dwellers - 1,467; Rest of India - 1,165', 'PwC | How India shops online: Consumer preferences in the metropolises and tier 1-4 cities\\n13 \\nImpact of reviews: Both urban dwellers and rest of India shoppers rely heavily on reviews, \\nratings and photos from other customers to be confident about their selections and to see \\nthe product in its natural environment. Knowing others have tried it and liked it makes a lot \\nof difference in their shopping journey.\\n“\\nI recently started doing yoga for better health and bought yoga pants from BlissClub which \\neveryone was talking about on Instagram. They are very comfortable. I also bought a yoga \\nmat from Amazon.”\\n- Female, late millennial, rest of India\\nFigure 6: Monthly average purchase frequency of the categories\\nPwC | How India shops online: Consumer preferences in the metropolises and tier 1– 4 cities 13 \\nSource: PwC analysis\\n0\\n0. 5\\n1\\n1. 5\\n2\\n2. 5\\n3\\n2.12\\n1.65\\n0.48 0.39\\n1.59 1.41\\n2.16\\n1.78\\n1.57\\n1.76\\n2.80\\n1.92 1.97\\n1.54\\nGr oceryFashion and \\naccessories\\nElectr onics \\nand consumer \\ndurables\\nBeauty and \\npersonal care\\nHealth and \\nwellness\\nHome and \\nkitchen\\nSports and \\nfitness\\nBase: Urban dwellers - 1,467; Rest of India - 1,165\\nUrban dwellers Rest of Indi a\\nMonthly average purachase frequency', 'PwC | How India shops online: Consumer preferences in the metropolises and tier 1-4 cities\\n14 \\nPayment preference: Urban dwellers and rest of India consumers display comparable \\nacceptance levels of UPI payments, indicating a rise in adoption and familiarity with such \\npayment methods. However, it is worth noting that cash on delivery (CoD) remains the \\npreferred option among the rest of India consumers to minimise the risk of frauds. This \\nsuggests that while there is growing acceptance of UPI payments due to its convenience, \\nspeed and security, there are still concerns regarding online platforms and payment methods \\nparticularly among rest of India. Generation X from rest of India prefer card transactions for \\nmid-high value purchases on well-known platforms due to their direct connection to bank \\naccounts, providing a trusted layer of transaction safety. Paytm is popular among urban \\ndwellers for its user-friendly wallet while PhonePe is preferred by rest of India because of its \\nintuitive interface. Google Pay ranks second nationwide.\\nFigure 8: Mode of payment\\nFigure 7: Most important factor while choosing a product online\\nSource: PwC analysis\\n55%\\n39%\\n47% 47%\\n33% 33%\\n0%\\n10%\\n20%\\n30%\\n40%\\n50%\\n60%\\nPrice of the product Deals/discounts offered Reviews of the pr oduct\\nBase: Urban dwellers - 1,467; Rest of India - 1,165\\nUrban dwellers Rest of Indi a\\nSource: PwC analysis\\n0%\\n5%\\n10%\\n15%\\n20%\\n25%\\n30%\\n35%\\n40%\\n34%\\n30%\\n26%\\n35%\\n18%\\n29%\\n9%\\n3%\\n9%\\n2%\\n5%\\n2%\\nUrban dwellers Rest of Indi a\\nUPI Cash on\\ndeliver y\\nCredit/debi t\\ncards\\nEMIOnline payment\\non delivery\\nE-walle t\\nBase: Urban dwellers - 1,890; Rest of India - 1,408', 'PwC | How India shops online: Consumer preferences in the metropolises and tier 1-4 cities\\n15 \\nHurdles to online shopping: As most urban women navigate shopping platforms like \\nseasoned pros, weighing their benefits and drawbacks, Gen X women in rest of India \\ntend to approach it with more cautious curiosity than others and are hesitant to shop \\nonline due to concerns about payment fraud, credibility of unfamiliar websites and doubts \\nregarding product quality matching the images shown. They rely heavily on reviews and \\nrecommendations from their family to gauge trustworthiness, questioning whether the \\nproduct will match its depiction and if it will be delivered as promised. Urban delivery faces \\nlogistical overload, regulations, and access restrictions, causing inconsistent experiences \\nto the consumers. Frequently, the timing of deliveries clashes with the fast-paced nature of \\nurban lifestyles, creating obstacles and challenges for individuals. In contrast, rest of India \\nenjoys smoother deliveries due to less dense environments and familiar personnel.\\nVoice of the consumer \\nUrban dwellers are familiar with the \\nmedium, understand the pros and \\ncons and appear to be more self-\\nassured. \\nIn rest of India, women (especially \\nGen X) are slightly sceptical about \\nonline medium whereas men are more \\nenthusiastic about online shopping.\\n“\\nWe like to shop by ourselves, we \\ncan buy things that we like without \\nothers’ opinions.”\\n- Female, Gen Z  \\n“\\nEarlier, I needed my husband or \\nchildren’s help but now I can do \\nshop on my own.”\\n- Female, late millennial \\n“\\nIn the photos I don’t understand what \\nkind of blue the product is going to \\nbe ... if it will be a dark blue or a bright \\nblue, I’m not sure of the shade ... \\nhence, I rely on review pictures.”\\n- Male, Gen Z \\n“\\nIf it’s an unknown website, I \\nusually worry that my money will \\nbe deducted but I’m not sure if the \\ndelivery will come as promised.”\\n- Female, Gen X', 'PwC | How India shops online: Consumer preferences in the metropolises and tier 1-4 cities\\n16 \\nEmergence of direct to customer (D2C) and Open Network for Digital\\nCommerce (ONDC): D2C gained popularity after the COVID-19 pandemic due to exclusivity, \\nnovelty and its potential to address the perceived lack of a ‘premium/luxury feel’ associated \\nwith marketplaces where consumers choose marketplaces for product diversity and \\ndiscounts. While urban dwellers are more aware of ONDC, rest of India is gradually adopting \\nplatforms like Paytm and Meesho, which offer appealing options for consumers to shop \\nthrough ONDC with lower prices and a variety of products. \\nFigure 9: ONDC awareness by consumers\\nPwC | How India shops online: Consumer preferences in the metropolises and tier 1–4 cities 16 \\nSource: PwC analysis\\nYes No\\n0%\\n10%\\n20%\\n30%\\n40%\\n50%\\n60%\\n70%\\n61%\\n33%\\n39%\\n57%\\nUrban dwellers Rest of Indi a\\nBase: Urban dwellers - 1,467; Rest of India - 1,165', 'PwC | How India shops online: Consumer preferences in the metropolises and tier 1-4 cities\\n17 \\nApp usage experience: It has been observed that apps are preferred over websites to shop \\nonline. This is common for all the respondents irrespective of their geographic location. The \\nfactors for this preference are ease of navigation, simplified user interface (that complies \\nto global standards) and vernacular support. Marketplace apps often also get downloaded \\nmore since they cater to a wide range of categories. For customer service and assistance \\nconsumers prefer human interaction over interacting with chatbots.\\nFigure 10: Platform preference\\nUnderstanding these specific triggers is crucial for businesses and acknowledging these \\ndiverse narratives is key to harnessing the vast potential of the evolving Indian retail \\nmarket and fostering meaningful connections with customers. The online shopping journey \\ntranscends mere transactions and needs a profound understanding of the aspirations, \\nchallenges and unique motivations which are driving the masses towards e-commerce. Let \\nus look at category specific implications in the next chapter.  \\nSource: PwC analysis\\n60%61%\\n19% 21%\\n24%\\n16%\\n0%\\n10%\\n20%\\n30%\\n40%\\n50%\\n60%\\n70%\\nUrban dwellers Rest of Indi a\\nI shop only \\nthrough apps\\nI shop only \\nthrough \\nwebsite s\\nSometimes I shop \\nusing an app and \\nsometimes \\nthrough websites\\nBase: Urban dwellers - 1,890; Rest of India - 1,408', 'PwC | How India shops online: Consumer preferences in the metropolises and tier 1-4 cities\\n18 \\nFrom fashion to gourmet food: \\nExploring trends across categories\\nPwC | How India shops online: Consumer preferences in the metropolises and tier 1–4 cities 18', 'PwC | How India shops online: Consumer preferences in the metropolises and tier 1-4 cities\\n19 \\nFashion and accessories5  \\n77%\\nof rest of India consumers listed product price as a reason \\nto continue using their preferred platform in fashion and \\naccessories category.\\nThe fashion and accessories category in the Indian e-commerce market stands out due \\nto its vast array of products and enticing deals. This category comprises national brands, \\nprivate labels, unbranded sellers and digital-native brands in the recent past. Affordable, \\nfast fashion with low entry barriers and high profitability is set to make this category more \\npopular and accessible among consumers. \\n5 Fashion as a category covers the following product types: Accessories such as watches, handbags and clutches, fashion jewellery, sunglasses; footwear; \\napparels/clothing; athleisure; babycare; intimate wear\\n6 Key insights uncovered through survey and research for this category.\\n#deals and discounts, #accessibility, #fast fashion \\nPlatform preference: With a combination of fashion and accessories, \\nmarketplaces still have a lion’s share of the consumer market irrespective of the \\ngeography. Amazon’s market pull in the urban markets beats Myntra’s by a small \\nmargin while Flipkart has caught the fancy of the nation in rest of India followed by \\nMeesho, Amazon and Myntra. This preference for marketplace apps over category-\\nbased platforms is a common theme among rest of India respondents highlighting \\nthe importance of hygiene factors such as deals, discounts, accessibility, user-\\nfriendly interfaces and familiarity with the platform.\\nKey insights6', 'PwC | How India shops online: Consumer preferences in the metropolises and tier 1-4 cities\\n20 \\n“I like to buy something exclusive which is not commonly available.”\\n- Female, Gen Z, rest of India\\n“It all depends on where I can get the best deal and have more choices \\navailable.”\\n- Male, Gen X, urban dwellers\\nThe drivers: Fashion is often seen as a reflection of social standing across age \\ngroups with different age groups interpreting it in unique ways. Gen Z values \\npersonalised fashion which helps them to stand out by combining clothing and \\naccessories from various apps to create their unique style. They prefer platforms \\nwith rapidly changing fashion products that offer diversity in colour, design, fabric, \\nand ease of comparison. On the other hand, early millennials, who are more \\nfocused on staying in line with current trends, opt for a streamlined approach to \\nfashion and accessories, saving time by not extensively exploring multiple apps. In \\ncontrast, late millennials and Gen X prioritise practicality, durability and value, and \\nprefer items that last longer and provide utility. They also display brand loyalty the \\nmost compared to the other groups.\\nPwC | How India shops online: Consumer preferences in the metropolises and tier 1–4 cities 20', 'PwC | How India shops online: Consumer preferences in the metropolises and tier 1-4 cities\\n21 \\nThe impact of social media and influencers: While social media influencers play a \\nsignificant role in the discovery of fashionable, trendy products, influencer-led promotions \\nare also being met with a lot of scepticism especially in the light of government guidelines7  \\nwhich require clear disclosures of paid promotions. Fake reviews and paid ads on social \\nmedia have led older millennials and Gen X to rely on community groups on Meta/Telegram \\nand visual reviews besides word-of-mouth advice.\\nPlatform loyalty: Responsive customer service and clear return policies are crucial in this \\nsegment irrespective of geographical location highlighting a universal expectation for reliable \\nand convenient shopping experience. Discounts and offers are crucial for driving loyalty \\namong rest of India consumers highlighting a value-driven approach in this segment.\\n“ I consider the quality first then the reviews, shipping duration, and sometimes the brand. \\nThese are the factors I consider along with colours, patterns and designs.”\\n- Female, Gen Z, urban dwellers\\nFigure 11: Reasons to continue using the platform\\nSource: PwC analysis\\n7 https://pib.gov.in/PressReleasePage.aspx?PRID=1892527#:~:text=Endorsements%20must%20be%20made%20in,not%20personally%20used%20or%20\\nexperienced. \\nUrban dwellers Rest of Indi a\\nBase: Urban dwellers - 394; Rest of India - 259\\n78%\\n64%\\n45%\\n42%\\n48%\\n49%\\n45%\\n44%\\n46%\\n38%\\n35%\\n45%\\n38%\\n91% 94%\\n85%\\n77%\\n55%\\n54%\\n54%\\n47%\\n45%\\n46%\\n43%\\n41%\\n40%\\n40%\\n37%\\n0% 20% 40% 60% 80% 100%\\nLike the overall experience of using the platform\\nComfort and familiarity developed over tim e\\nConvenience of shopping anytime, anywhere\\nEasy payment options\\nEasy to exchnage/return\\nBrand trust and re liability\\nQuick delivery\\nAttractive prices\\nAttractive off ers/discount s\\nDelivery\\nProduct cost related\\nConnect with the platform\\nProvides quick exchange/return\\nEf ficient customer care', 'PwC | How India shops online: Consumer preferences in the metropolises and tier 1-4 cities\\n22 \\nKey recommendations:8 Present, short and long term \\nIn the competitive online fashion industry, brands need to transcend the expectations of \\ncost-efficiency and speedy delivery. They should focus on providing a superior customer \\nexperience which resonates on a deeper level with consumers. \\nPresent: Parameters which can help in maintaining category hygiene \\nDeliver improved user experience by simplifying navigation which aids product \\ndiscovery and purchase. Simplified product search and product reviews are \\nessential to remain competitive in this sector. \\nProviding comprehensive product descriptions, including material and composition \\ndetails, care instructions and high-quality images increase the chances of a product \\nbeing picked and enhances the platform engagement for this category. \\nThe platform should have reliable delivery partners with accurate tracking and \\nsimple, straightforward return policies to accommodate customers with different \\nlevels of awareness.\\nOffline versus online: Consumers prioritise offline shopping for high-value, quality-centric \\nitems like occasion-based attire, while online shopping dominates for low to medium-ticket \\nitems where customers prioritise variety, thereby minimising the risk of low quality/return \\nrelated issues. \\n8 Key recommendations are our suggestions for businesses and brands in this market on basis of our research and survey.\\nShort term: Parameters which can enable positive engagement with the \\ncategory  \\nRecommendations and user generated content: Encouraging community-based \\nrecommendations can improve brand conversations and eliminate authenticity \\nconcerns for rest of India, while strengthening loyalty and trust for urban dwellers.\\nTrend responsiveness: Platforms need to constantly update the stocks to reflect \\nthe latest trends and seasonality to cater to the intrinsic need of shoppers in \\nthis category.\\nLong term: Parameters which can create disruptions in the category\\nDifferentiation of the product line with exclusive items or limited-edition products is \\na necessity for both brands and platforms in this category to cater to the desire for \\nindividuality and exclusivity among shoppers including elements of sustainability. \\nPlatforms can offer enhanced wardrobe management features where users can \\nbuild, manage and maintain their offline wardrobes.', 'PwC | How India shops online: Consumer preferences in the metropolises and tier 1-4 cities\\n23 \\nSports and fitness9  \\nThe sports and fitness category is still in its early stages of adoption in the e-commerce \\nmarket. There is a growing demand for the items of this category due to an increase \\nin fitness and health enthusiasts in the country. The category is expected to grow at \\na compound annual growth rate (CAGR) of 33% in the next five years.10  This presents \\nopportunities for newer players in the e-commerce space to establish themselves and gain a \\nfoothold in this category.\\n9 Sports and fitness as a category cover the following product types: sports shoes, special purpose sports clothing, sports equipment, fitness accessories, \\nnutritional items, home gym equipment, camping accessories and bicycle and bicycle accessories\\n10 https://timesofindia.indiatimes.com/blogs/voices/the-fitness-industry-in-india-is-being-reshaped-by-ml-wearable-technology-and-ai-based-workouts/\\nKey insights \\nPlatform preference: Flipkart emerged as the most preferred platform for this \\ncategory with 39% of respondents preferring it over other platforms. It is especially \\npopular among rest of India users (44% users) further reinforcing the finding that \\nplatform familiarity and brand value are most important factors for them. Notably, \\nMyntra is a distant third in this category due to its operations in sportswear.\\n#exclusivity, #brand trust, #lifestyle\\n68%\\nof rest of India consumers chose to shop sports and fitness \\nitems online for the first time after seeing it on \\nsocial media.', 'PwC | How India shops online: Consumer preferences in the metropolises and tier 1-4 cities\\n24 \\nImpact of social media and influencers: Unlike fashion, influencers in this \\ncategory impact purchase decisions which are not just limited to product/brand \\nawareness but more from personal experience narratives and real-world impact of \\nthe product. Consumers across India seek guidance and recommendations from \\nthem. Peer and social media group recommendations are still the most influential \\nfactor in the decision to adopt a new product or choose a lifestyle/regime. The \\ninfluence of influencers varies significantly by age groups (see the table given below) \\nand some brands are leveraging these insights for targeted sales and marketing.  \\nFigure 12: Influencers’ impact \\nPwC | How India shops online: Consumer preferences in the metropolises and tier 1–4 cities 24  \\nSource: PwC analysis\\n0%\\n10%\\n20%\\n30%\\n40%\\n50%\\n60%\\n70% 64% 67%\\n55%\\n66%\\n50%\\n54%\\n41%\\n37%\\n21%\\n27%\\nInfluencers help me in \\nunderstanding how to \\nuse the product\\nHelp me identify \\nnew brands/new \\nproducts/launches\\nHelp me understand \\nthe look and feel of \\nthe product for \\nvisual validatio n\\nInfluencers help \\nbuild trust in  \\nthe product\\nInfluencers help \\nme get coupons/ \\ndiscounts\\nUrban dwellers Rest of Indi a\\nBase: Urban dwellers - 66; Rest of India - 121', 'PwC | How India shops online: Consumer preferences in the metropolises and tier 1-4 cities\\n25 \\nShift from marketplace apps to D2C: While marketplace apps like Amazon and Flipkart \\nremain popular due to their extensive reach and familiarity, there is a gradual shift towards \\nspecialised D2C platforms like Decathlon, HRX, BoldFit and many others due to their \\nexclusive and varied offerings. These specialised platforms are increasingly valued for \\ntheir niche selections which address specific consumer needs in sports and fitness. Active \\nlifestyle brands, such as HRX, Decathlon, and BoldFit, prioritise community-building \\nactivities which promote healthy lifestyles through events like running competitions, \\nyoga sessions and sharing healthy recipes through social media. This focus on customer \\nengagement has contributed to the shift towards D2C platforms in this category. \\nApp usage: For this segment, the trust in the platform’s ability to deliver consistently and \\nhandle issues effectively is paramount. Shoppers’ loyalty is often reinforced with positive \\nexperiences in the past and a sense of familiarity with the platform. A user-friendly app \\ninterface is significantly more critical for urban dwellers compared to rest of India consumers \\nand plays a crucial role in how much they use digital technology for shopping.\\n“\\nD2C is also good because we purchase directly from the company. If we have any issues, \\nthey help us resolve it. They never dissatisfy the customers. So, instead of purchasing from \\nthird parties one should purchase products directly from company’s website.”\\n- Female, early millennial, rest of India \\n“I know the quality of the D2C platform I buy from, they never compromise on it.”\\n- Male, late millennial, rest of India\\nPwC | How India shops online: Consumer preferences in the metropolises and tier 1–4 cities 25', 'PwC | How India shops online: Consumer preferences in the metropolises and tier 1-4 cities\\n26 \\nKey recommendations: Present, short and long term\\nAs the sports and fitness category gains traction across various demographics across \\nthe country, particularly among rest of India shoppers who are new to purchasing these \\nproducts online, it is crucial to provide them with comprehensive service support and \\nassurance of product quality. \\nDespite the category’s low wallet share, a majority of consumers seek discounted and \\nbudget-friendly options, viewing these products as supplementary to their lifestyle and \\nwardrobe rather than essential purchases. The following are the present, short-term and \\nlong-term recommendations which businesses can consider:  \\nShort term: Parameters which can enable positive engagement with the \\ncategory\\nEducational content and guidance: Platforms and brands should develop user-\\nfriendly guides to help new consumers in rest of India to understand the benefits \\nand usage of sports and fitness products, educating them about the category and \\ntap into a new segment of customers.\\nPartner with relatable fitness influencers: Platforms should engage influencers to \\ncreate content that guides and motivates consumers through their fitness journey \\nand not merely as a promotional tool.\\nPresent: Parameters which can help in maintaining category hygiene  \\nTiered pricing strategy with range of products at various price points: Platforms \\nand brands should create multiple entry points for customers, which will ensure that \\nthere are affordable options to attract first-to-the-category and budget-conscious \\ncustomers. \\nDiscount and value deals: Platforms should not only highlight discounts and value \\ndeals prominently but also showcase the long-term value and lifestyle enhancement \\nprospects of sports and fitness products to justify their place in the consumers’ \\nbudgets. \\nLong term: Parameters which can create disruptions in the category \\nVirtual/augmented reality workouts: Offer immersive fitness experiences which \\ncombine physical exercise with virtual environments to increase brand engagement \\nand adoption.', 'PwC | How India shops online: Consumer preferences in the metropolises and tier 1-4 cities\\n27 \\nElectronics11\\n#convenience, #discounts, #trust\\n41%\\nof Gen Z accept that fake customer reviews are a key \\nbarrier for using other platforms in this category.\\nIndia is one of the fastest-growing electronics markets worldwide and is poised to become \\nthe fifth-largest consumer durables market globally.12  The consumer durables market in \\nIndia is experiencing a transformation driven by an increasing number of consumers who \\nare investing in their homes and seeking innovative, time-saving solutions. This shift in \\nconsumer behaviour has been further amplified after the COVID-19 pandemic as consumers \\nspent more time indoors during the lockdown, leading to a surge in home investments and a \\nheightened focus on household appliances. The key differences in the purchasing behaviour \\nbetween urban dwellers and rest of India are convenience, discounts and the perception of \\ntrust. Across different age groups, the purchase of electronic products is characterised by \\nthorough research and a strong emphasis on brand recognition.\\n“Electronics upgrade our lives. They make our lives easier and better.”\\n- Male, Gen X, rest of India \\nPwC | How India shops online: Consumer preferences in the metropolises and tier 1–4 cities 27 \\n11 The electronics category includes the following product types: mobile, headphones, smartwatch, speakers, laptop, television, tablet, washing machine, \\nrefrigerator and cameras\\n12 https://www.ibef.org/industry/consumer-durables-presentation', 'PwC | How India shops online: Consumer preferences in the metropolises and tier 1-4 cities\\n28 \\nKey insights\\nPlatform preference: When it comes to electronic purchases, mobile phones emerge as \\nthe most coveted product followed by headphones. Urban dwellers prioritise convenience \\n(easy, anytime and anywhere access) over discounts and gravitate towards platforms like \\nAmazon, while rest of India consumers prefer Flipkart and prioritise discounts. Despite high \\nawareness of platforms like JioMart, Paytm Mall and Croma, consumers place greater trust \\nin popular marketplaces due to concerns about fake/duplicate products.\\nFigure 13: Influencers’ impact \\n“Amazon has always given good electronics products with best prices. Hence, for me, that is \\nmain association with the category.”\\n- Female, Gen X, urban dwellers\\nSource: PwC analysis\\n67% 65%\\n53%\\n46%\\n16%\\n59%\\n64%\\n52%\\n35%\\n25%\\n0%\\n10%\\n20%\\n30%\\n40%\\n50%\\n60%\\n70%\\n80%\\nInfluencers help me in \\nunderstanding how to \\nuse the product\\nHelp me identify  \\nnewer brands/new \\nproducts/launches\\nInfluencers help \\nbuild trust in  \\nthe product\\nInfluencers help \\nme get coupons/ \\ndiscounts\\nHelp me understand \\nthe look and feel of \\nthe product for \\nvisual validatio n\\nUrban dwellers Rest of Indi a\\nBase: Urban dwellers - 281; Rest of India - 200', 'PwC | How India shops online: Consumer preferences in the metropolises and tier 1-4 cities\\n29 \\nInfluence of visual content and personal recommendations on decision-making:\\nThe decision-making process for electronic purchases is heavily influenced by visual content \\nand personal recommendations. Consumers rely extensively on visual formats like unboxing \\nvideos and reviews, predominantly found on YouTube tech channels, to assess product \\nquality. Furthermore, the impact of influencers on these platforms is substantial, shaping \\nconsumer purchasing decisions through their reviews. Personal recommendations remain \\nanother powerful force emphasising the enduring importance of word-of-mouth in guiding \\nconsumer choices. \\nOffline store visits and online purchases: Many consumers visit offline stores to evaluate \\nproduct functionalities, however, often, these consumers make their purchase on the internet \\nafter evaluating the product in stores. When making high-value electronic purchases online, \\nconsumers in India are increasingly looking for support and service guarantees similar to \\nwhat they experience in physical stores. This trend signifies a changing expectation where \\nthe convenience of online shopping is anticipated to match the dependability of traditional \\nretail, particularly for substantial investments such as home appliances. Shoppers from \\nrest of India prefer offline purchases due to their familiarity with the shopkeeper as the \\nphysical presence of the store provides a sense of assurance. Longer delivery times in online \\nshopping add to the feeling of uncertainty to consumers in rest of India.\\nFigure 14: Channel selection for shopping\\nSource: PwC analysis\\n65%\\n49%\\n53%\\n42%\\n51%\\n53% 55%\\n49% 51% 51%\\n32%\\n0%\\n10%\\n20%\\n30%\\n40%\\n50%\\n60%\\n70%\\nProduct category/nature \\nof product to be shopped\\n(e.g. offline shopping\\npreferred if physical  \\nproduct assessment\\nrequired)\\nOffers/discount s\\navailabl e\\nPromotion by\\nsocial media\\ninfluencer\\nRecommendatio n\\nby friends\\nBased on\\nurgency of \\nproduct\\nrequiremnets\\nUrban dweller s Rest of Indi a\\nBase: Urban dwellers - 281; Rest of India - 200', 'PwC | How India shops online: Consumer preferences in the metropolises and tier 1-4 cities\\n30 \\nKey recommendations: Present, short and long term\\nUrban dwellers crave the convenience of online electronics shopping, while rest of India \\nbuyers prioritise finding products readily and at affordable prices. Striking the right balance \\nbetween these contrasting needs is crucial for online electronics retailers to achieve growth \\nin this market. \\nShort term: Parameters which can enable positive engagement with the \\ncategory\\nStrong after-sales support: Online platforms need to provide extensive post-\\npurchase services such as accessible customer service, extended warranties and \\neasy returns and exchanges mirroring in-store experiences. \\nPay per use: Some product categories like water purifiers have implemented pay-\\nper-use model which enables consumers to avoid paying upfront for larger ticket \\nsize items, this may benefit the customers in the category since the customers who \\nare reluctant to buy expensive electronics online can buy them without paying the \\nlumpsum amount.\\nPresent: Parameters which can help in maintaining category hygiene\\nThe key factors driving purchasing decisions in the electronics segment include: \\nCompetitive pricing: Detailed specifications, price comparisons with offline stores \\n(particularly significant for participants from smaller towns), robust return and refund \\npolicies, and the presence of authentic customer reviews. \\nDelivery timelines: Shorter delivery timelines for rest of India will improve \\nconversions. \\nQuality guarantee: Features such as quality assurance, product certifications, \\nauthenticity guarantees and straightforward warranty, and return policies are now \\nexpected from all online platforms.\\nLong term: Parameters which can create disruptions in the category\\nPost-purchase support: Immediate tech support through augmented reality \\n(AR) tutorials is anticipated to revolutionise customer service, providing real-time \\nassistance and guidance to users facing technical issues related to the product. \\nEnhanced product visualisation: Emerging technologies like haptic feedback will \\nenable customers to feel the texture and weight of products virtually, providing a \\nmore tactile shopping experience.', 'PwC | How India shops online: Consumer preferences in the metropolises and tier 1-4 cities\\n31 \\nHome and kitchen13\\n#instagrammable spaces, #affordable aesthetic  \\n41%\\nof rest of India respondents believe that Flipkart is the most \\nsuitable platform for buying home and kitchen products online.\\nIn the Indian market, the home furnishing and kitchen sector has experienced remarkable \\ngrowth and is growing at a CAGR of 10%.14 Several factors contribute to this growth \\nincluding the country’s urbanisation, a substantial young population and the increasing \\naspirations of the burgeoning middle class. The increasing demand for modern and modular \\nfurniture solutions the expanding urban landscape across Indian states, and the growing \\npreference for durable, versatile home spaces have also led to the increase in the demand in \\nthis category. \\nFlipkart is perceived as most suitable by rest of India, while urban dwellers prefer Amazon. \\nJioMart and Myntra are gaining ground. There are also significant differences in the buying \\nbehaviour between men and women.\\n“Home is very personal for me; hence, I always like to decorate it and keep it aesthetic.”\\n- Female, Gen X, urban dwellers\\n13 Home and kitchen as a category includes the following product types: Kitchen storage like containers and jars, home decor products such as rugs, wall \\nstickers, vases as well as home storage solutions like pot racks, kitchen drawers, and plastic boxes. This category also covers furniture items and home linen. \\n14 https://retail.economictimes.indiatimes.com/blog/consumer-trends-in-the-home-and-lifestyle-categories/105567375', 'PwC | How India shops online: Consumer preferences in the metropolises and tier 1-4 cities\\n32 \\nKey insights \\nPlatform preference: Urban dwellers prefer to buy home linen from Amazon while \\nMyntra is becoming another popular choice for home linen ever since it included \\nthe product as a part of its offering. Rest of India consumers prefer Flipkart, while \\nJioMart is quickly gaining popularity with kitchen, dining and storage solutions. For \\nurban dwellers, a user-friendly app interface holds significantly more importance \\ncompared to rest of India consumers. Rest of India consumer focus on cost-saving \\nmeasures, attractive offers, and quick delivery while India consumers prioritise \\nbrand trust, reliability, and support from the e-commerce platforms.\\nGender differentiators: In rest of India, men and women are almost shopping \\nequally in this category. However, how they shop varies significantly. Most men \\nfocus on reading product descriptions, specifications and are very functional in their \\napproach to the product, while some women prioritise aesthetics, detailed reviews \\nas well as ways to visualise the product in their home through picture based reviews \\nand personalisation options and unique finds resonate deeply with their desire for \\nindividual expression.\\nPreference for video reviews and product specs: Video reviews are highly \\nvalued as they help customers in understanding the make, built quality and utility \\nof the product. Furthermore, product specifications are considered paramount \\nfor understanding the size and space requirements highlighting the importance of \\ndetailed product insights.\\n“\\nIt (the product) should have good reviews, and we trust those reviews. For instance, if you are \\nbuying a study table and chair priced at a minimum of INR 10,000, you’d want good reviews \\nand a reputable brand.”\\n- Male, early millennial, rest of India', 'PwC | How India shops online: Consumer preferences in the metropolises and tier 1-4 cities\\n33 \\nFigure 15: Important factors while a purchasing product online\\n“Home is my relaxation space; hence, keeping it clean and well-maintained is my goal. It also \\nadds to my social status as people often notice and appreciate a nice, well-done house.”\\n- Female, Gen X, urban dwellers\\nPwC | How India shops online: Consumer preferences in the metropolises and tier 1–4 cities 33 \\nSource: PwC analysis\\n52%\\n58%\\n46% 45%\\n49%\\n57%\\n40%41%\\n36% 33% 33%\\n28%\\n23%\\n32%\\n0%\\n10%\\n20%\\n30%\\n40%\\n50%\\n60%\\n70%\\nProduct should \\nbe of a trusted \\nbrand even if it \\nhas not been \\nused in the past \\nDeals/discounts \\noffered\\nReviews of  \\nthe product\\nDelivery \\ntime\\nApp/website  \\nshould be \\ntrustworthy\\nProduct \\nshould be of  \\na brand I \\nhave trie d\\nPrice of the\\nproduct\\nUrban dwellers Rest of Indi a\\nBase: Urban dwellers - 91; Rest of India - 148', 'PwC | How India shops online: Consumer preferences in the metropolises and tier 1-4 cities\\n34 \\nShort term: Parameters which can enable positive engagement with the \\ncategory\\nInfluencer collaboration for engaging content: Collaborating with influencers to \\ncreate engaging content that provides décor tips and showcases products can \\nenhance consumer engagement and provide personalised experiences for the \\nconsumers.\\nLong term: Parameters which can create disruptions in the category\\nAugmented reality integration and product presentation: Integrating augmented \\nreality to allow customers to visualise products in their home settings can \\nsignificantly reduce the hesitation in buying these products online by bridging the \\ngap between digital and physical shopping experiences.\\nPresent: Parameters which can help in maintaining category hygiene\\nProduct quality assurance: Quality assurance is as important as competitive \\npricing. This necessitates the implementation of a robust quality assurance \\nprogramme, including certification and assurance guarantees as part of the product \\nvalue proposition.\\nCurated product assortment and personalisation: Curating a unique product \\nassortment which is not readily available elsewhere, with a focus on eco-friendly \\nand space-saving designs, appeals to new-age consumers. Additionally, offering \\npersonalisation and customisation options such as custom colours, engravings or \\nmodular designs enhances consumer engagement.\\nImages, description, reviews and ratings: Ensuring high-quality images and \\ndetailed descriptions in product listings and leveraging customer reviews and \\nratings can reduce returns and enhance consumer confidence.\\nKey recommendations: Present, short and long term   \\nBy focusing on these elements and industry recommendations, businesses can effectively \\nattract and engage consumers while meeting their evolving preferences and expectations in \\nthe online home and kitchen shopping segment.', 'PwC | How India shops online: Consumer preferences in the metropolises and tier 1-4 cities\\n35 \\nBeauty and personal care15\\n#high engagement, #authenticity, #personalisation\\n53%\\nof urban dwellers believe that price is an important factor \\nwhile choosing to buy beauty and personal care products \\nonline.\\nThe beauty and personal care industry has been witnessing significant growth, and it is \\nprojected to grow at a CAGR of 9.5%16  in the next five years. This growth is influenced \\nby various factors such as economic dynamics, cultural transformations, product \\nadvancements, and evolving consumer perceptions towards self-care and wellness. This \\ngrowth trajectory is poised to elevate the sector, leading to the emergence of numerous \\nmillion-dollar club brands in the near future. 17  A pivotal driver of this expansion is the \\nrecognition of holistic well-being and regimens that foster a confident self-image. Quick \\ncommerce enterprises in India are amplifying their beauty and personal care portfolios, \\nreflecting the industry’s evolution towards a more comprehensive approach to individual \\nwell-being.\\n“Beauty is important to me because it is basically taking care of yourself and doing that uplifts \\nyour mood. So it is like pampering yourself and therapy at the same time.”\\n- Female, Gen Z, rest of India\\n“For me, shopping for make-up and skincare is an escape from daily life, so it’s like relaxation \\nand de-stressing in a way as it improves my overall well-being.”\\n- Female, early millennial, urban dwellers\\n15 The beauty and personal care category covers the following products: skin care, hair care, make up, bath and body care, fragrances and personal \\ncare appliances\\n16 https://www.moneycontrol.com/news/business/india-beauty-personal-care-market-projected-to-grow-to-30-billion-by-2027-report-11297611.html\\n17 https://economictimes.indiatimes.com/industry/cons-products/fashion-/-cosmetics-/-jewellery/pure-play-brands-to-drive-indias-30-billion-beauty-and-\\npersonal-care-market-opportunity-report/articleshow/103277515.cms?from=mdr', 'PwC | How India shops online: Consumer preferences in the metropolises and tier 1-4 cities\\n36 \\nKey insights \\nPlatform preference: Urban dwellers are aware of and open to trying D2C brands \\nand beauty-specific marketplaces. However, a majority of their shopping is done on \\nAmazon, followed by Myntra. Rest of India is shopping primarily from Flipkart, driven \\nprimarily by the search for better deals. Rest of India respondents tend to favour \\nmarketplace apps like Flipkart over D2C or category-specific apps like Nykaa. Our \\nanalysis suggests that rest of India users are more likely to choose marketplace \\nplatforms due to their familiarity with and awareness of these platforms within this \\ncategory.\\nGender differentiators: Women demonstrate a high-involvement purchase pattern \\nand are inclined to explore D2C brands. Specifically, Gen Z and early millennial \\nwomen actively seek out emerging skincare and haircare brands across various \\ngeographical regions. In contrast, men exhibit inconsistent shopping habits, \\npredominantly sticking to basic skincare and haircare items. Across cohorts, men \\ngenerally adopt a minimal engagement approach while purchasing beauty and \\npersonal care products.\\nAuthenticity and quality: Shoppers exhibit a strong preference for platforms \\nproviding authentic brands and attractive discounts, valuing both trustworthiness \\nand exclusivity alongside economic incentives. In India, Nykaa and Smytten emerge \\nas popular marketplaces owing to their extensive range, authenticity and inclusion \\nof beauty product samples. Conversely, consumers in rest of India lean towards \\nFlipkart due to its favourable exchange and return policies and prompt delivery \\nservices, particularly advantageous for remote locations.\\n“I consider whether the product is organic or not, then the brand, price and other factors.”\\n- Female, early millennial, urban dwellers\\n“I usually do personal care shopping as it is a necessity for me to be well-groomed in my \\noffice. It helps me look good.”\\n- Male, late millennial, rest of India', 'PwC | How India shops online: Consumer preferences in the metropolises and tier 1-4 cities\\n37 \\nSocial media ads and influencer marketing strongly influence decision making \\nfor Gen Z and early millennial women\\nGen Z and early millennial women follow the social media pages of D2C brands \\nsuch as SUGAR Cosmetics, Nykaa and Smytten. This engagement offers them a \\nwindow into the latest products and trends. They also enjoy watching their favourite \\nBollywood celebrities promote brands. On the other hand, late millennials and \\nGen X still rely more on peer recommendations and stick with familiar and popular \\nbrands.\\nOnline vs offline: A few consumers revealed past negative experiences with offline \\nstores – e.g. uncertainties about receiving genuine products. Specifically, some \\nwomen respondents expressed concerns about purchasing first-copy cosmetic \\nproducts from these stores.\\nFigure 16: Influencers’ impact\\nSource: PwC analysis\\n“\\nIt is crucial to ensure the authenticity of beauty products. The products you purchase must be \\ngenuine; otherwise, they could damage your skin.”\\n- Female, late millennial, urban dwellers\\n0%\\n10%\\n20%\\n30%\\n40%\\n50%\\n60%\\n70%\\n80%\\nT\\nInfluencers help in\\nunderstanding how to\\nuse the product\\nHelp me identify newer\\nbrands/new products /\\nlaunches \\nInfluencers help build\\ntrust in the product  \\nInfluencers help me get\\ncoupons/ discount s\\nHelp me understand\\nthe look and feel of th e\\nproduct and provide\\nvisual validatio n\\n69%\\n61% 59% 56% 54%\\n51%\\n38% 40%\\n20%\\n24%\\nUrban dwellers Rest of Indi a\\nBase: Urban dwellers - 176; Rest of India - 153', 'PwC | How India shops online: Consumer preferences in the metropolises and tier 1-4 cities\\n38 \\nShort term: Parameters which can enable positive engagement with the \\ncategory\\nSampling opportunities: Consider offering samples or trial sizes of beauty products \\nto allow customers to experience the products before making full-size purchases, \\nacknowledging the personal nature of such products.\\nPersonalised guidance and expert support: Introduce beauty consultations, \\npersonalised product recommendations, and AI-powered tools to match products \\nwith individual skin types or beauty goals.\\nPresent: Parameters which can help in maintaining category hygiene\\nDiverse and authentic product range: Offer a wide range of products to cater to \\nconsumers across metros and the rest of India.\\nDetailed descriptions and customer feedback: Develop comprehensive product \\ndescriptions and leverage customer reviews to aid customers in their decision-\\nmaking process.\\nStrategic pricing and exclusive deals: Incorporate exclusive offers and discounts, \\nespecially during seasonal sales, to enhance customer value.\\nKey recommendations: Present, short and long term\\nTo draw clients, newer beauty brands have to think about integrating their products into \\nmore lifestyle activities as an alternative to showcasing and advertising them with graphics, \\nphotos and small video clips. Product authenticity and quality are the basic hygiene factors \\nbrands need to prioritise to mark their presence in the industry.\\nCustomer reviews and ratings are crucial: Consumers across all geographic areas rely on \\ninformative reviews and personal recommendations during their purchase journey.\\n“I am doubtful about the authenticity of cosmetic brands sold offline. I feel they are not \\ngenuine, so I prefer to shop online only.”\\n- Female, early millennial, urban dwellers', 'PwC | How India shops online: Consumer preferences in the metropolises and tier 1-4 cities\\n39 \\nLong term: Parameters which can create disruptions in the category\\nTransparency: Ensure product legitimacy through partnerships with reputable \\nglobal brands known for quality and eco-friendliness and consider certifications like \\norganic or cruelty-free labels. Offer assurances such as money-back guarantees to \\nbolster confidence in product efficacy and safety. Implement authenticity verification \\nsystems, utilising holograms, QR codes or digital e-verification methods to combat \\ncounterfeit products.\\nHyperpersonalisation: Facilitated by technological advancements, \\nhyperpersonalisation will grow in the beauty and skincare industry, enhancing the \\ncustomer experience.\\nPwC | How India shops online: Consumer preferences in the metropolises and tier 1–4 cities 39', 'PwC | How India shops online: Consumer preferences in the metropolises and tier 1-4 cities\\n40 \\nHealth and wellness18\\n18 Health and wellness as a category includes the following product types: General medicines (tablets/syrups), general nutrition and wellbeing – health drinks, \\nsupplements, multivitamin tablets, shampoo, facewashes, lotions, Ayurvedic medicines/powders/syrups, weight management products – tablets, shakes, \\nbook lab tests/health checkup packages\\nIndia’s online health and wellness sector is booming due to evolving consumer preferences \\nand technological progress. Offering tailored products, it caters to health-conscious \\nconsumers seeking holistic solutions that combine modern and ancient practices like \\nAyurveda and yoga. Both urban dwellers and rest of India consumers are gravitating towards \\nonline health and wellness categories for their convenience, wide product range, and \\ndetailed information and reviews. \\nKey insights \\nPlatform preference: As the health and wellness category is considered credibility \\nfocussed and reliability driven, late millennials and Gen X consumers tend to rely \\non familiar marketplace apps rather than exploring new ones and Amazon is their \\npreferred choice, followed by JioMart, due to its reliability and wide adoption. \\nAdditionally, apps like Apollo Pharmacy, Tata 1mg,  Pharmeasy and Netmeds \\nare trusted for their convenience and reliability in purchasing regular medicines. \\nSmytten is an emerging brand in the health category. Both, late millennials and Gen \\nX are shifting from offline to online shopping for health products, appreciating the \\naccessibility, competitive prices and home delivery offered by online platforms. In \\ncontrast, Gen Z and early millennials who are urban dwellers tend to stick to trusted \\nmarketplaces for purchasing medicines but browse D2C brands for protein powders \\nand supplements.\\n#trust, #convinience, #care, #necessity \\n53%\\nof urban dwellers bought health and wellness products on-\\nline for the first time after being recommended by members \\nof an online community.', 'PwC | How India shops online: Consumer preferences in the metropolises and tier 1-4 cities\\n41 \\n“Nowadays, I can get medicine delivered to my home whenever I need it. I don’t have to go \\nanywhere, and I can access all types of medicines prescribed by my doctor.”\\n- Female, late millennia, urban dwellers\\n“\\n“\\nMy friend was using Apollo, he suggested it to me so I tried it once, and since then I have \\nbeen using it.”\\nI check for offers, rewards and expiry dates, and check whether or not the product is \\nreturnable.”\\n- Male, late millennial, rest of India\\n- Male, Gen X, urban dwellers\\nThe drivers: Consumers opt to buy prescribed medicines and brand-specific \\nsupplements for recurring use from trusted apps, attracted by the convenience and \\ndiscounts offered. Late millennials and Gen X prioritise the purchase of prescribed \\nmedicines, valuing necessity and accuracy. In contrast, Gen X and early millennials, \\nwho primarily buy protein powders and other health supplements, tend to compare \\ncosts across various apps before making a purchase. A comprehensive description, \\nincluding the composition and clearly stated expiry date, is a key driver for deciding \\nwhere to shop from across all cohorts. Urban dwellers prioritise trust and reliability \\nwhen it comes to apps for health and wellness. They also value prompt customer \\ncare as a key consideration when it comes to brand loyalty. In contrast, rest of India \\nconsumers are more cost-conscious and also give importance to quick delivery and \\nconvenience. Reviews and ratings are crucial for Gen Z and early millennials, but \\nthey are less pivotal for late millennials and Gen X.\\nThe impact of social media and influencers: Late millennials and Gen X prioritise \\nthe ability to verify prescriptions and medicine details within the app, placing \\ngreater emphasis on information accuracy rather than social media and influencer \\npromotion. In contrast, Gen Z is influenced by social media and recommendations \\nfrom friends while buying non-prescribed supplements.', 'PwC | How India shops online: Consumer preferences in the metropolises and tier 1-4 cities\\n42 \\nPlatform loyalty: Good offers and discounts on recurring orders are incentives for \\nall cohorts, especially late millennial and Gen X rest of India consumers and urban \\ndwellers. Flexible payment options and CoD are important for driving loyalty among \\nrest of India older women consumers.\\nOffline versus online: Both urban dwellers and rest of India customers prefer to \\nplace recurring orders, especially for prescribed medicines, online. They use trusted \\napps to get good deals and discounts. Consumers across all cohorts, irrespective \\nof geolocation, prefer to make emergency purchases offline from a nearby local \\nchemist.\\nFigure 17: Channel selection for shopping\\n“If I urgently need any medicine, I have to go to the nearby chemist. However, if I order from \\nTata 1mg, I can receive medicines within 2–3 days, and often with a 20% discount.”\\n- Female, Gen X, urban dwellers\\nSource: PwC analysis\\n41%\\n50%46%\\n34%\\n45%\\n37%\\n48%\\n35%\\n48%\\n30%\\n44%\\n33%\\n39% 41%\\n0%\\n10%\\n20%\\n30%\\n40%\\n50%\\n60%\\nProducts shoul d\\nbe of a brand I\\ntrust even if I\\nhave not used it\\nin the past\\nPrice of the\\nproduct\\nDeals/discounts\\noffered\\nDelivery\\ntime\\nProducts\\nshould be\\nof a brand I\\nhave trie d\\nUrban dwellers Rest of Indi a\\nReviews of  \\nthe product\\nApp/website  \\nshould be \\ntrustworthy\\nBase: Urban dwellers - 117; Rest of India - 133', 'PwC | How India shops online: Consumer preferences in the metropolises and tier 1-4 cities\\n43 \\nKey recommendations: Present, short and long term\\nEmerging brands in the health category must prioritise fundamental hygiene factors such \\nas quality assurance, product authenticity and a diverse range of offerings to ensure safety \\nand platform relevance, thus minimising the risk of counterfeit products and ensuring \\nwarranty coverage. It is crucial for these brands to improve user experience by offering \\nintuitive app interfaces and streamlined functionalities to differentiate themselves in the \\ncompetitive market.\\nLong term: Parameters which can create disruptions in the category\\nVerifiable proof of product authenticity and partnerships with trusted health brands: \\nThis reinforces the brand’s commitment to quality and genuine products.\\nVirtual health advisory services: This serves as an ecosystem for customers to \\naccess health professionals for consultations, thereby integrating product purchases \\nwith expert advice.\\nAI-powered chabots: Chatbots can be used for preliminary guidance, supplemented \\nby human experts for in-depth consultation.\\nCommunity and peer support integration: By fostering an online community where \\nconsumers can share experiences and advice, brands can reinforce their position as a \\nplatform for health and wellness dialogue and support.\\nShort term: Parameters which can enable positive engagement with the \\ncategory\\nOn-demand and predictive delivery network: On-demand delivery along with \\npredictive delivery schedules for urban dwellers, using AI to forecast when \\ncustomers will need refills or new products based on their purchase patterns and \\nsubscription services.\\nFlexible subscription: To attract first-time urban dwellers and rest of India users and \\nincrease conversion.\\nPresent: Parameters which can help in maintaining category hygiene\\nFeature customer testimonials and personalised recommendations as the first scroll \\nof the platform, providing a customised experience for the consumer.\\nCreate a product details page that is effectively optimised with a balanced \\ncombination of informative text, images and usage guide clips to instil trust among \\nurban dwellers and rest of India consumers.\\nProvide competitive pricing while also offering personalised discounts and deals \\nbased on user purchase history.\\nSimplify the returns process and offer prompt support to draw customers.', 'PwC | How India shops online: Consumer preferences in the metropolises and tier 1-4 cities\\n44 \\nGrocery19\\n19  Grocery as a category covers the following product types: Snacks like wafers, namkeen; shampoo, facewash, lotion, oil, masalas, sauces; house cleaning \\nproducts like instant food, instant noodles; rice, atta (flour), dal; bakery; milk, coffee, tea, cereals like oats, cornflakes; milk products, fruits, vegetables, meat, \\neggs, seafood; other home supplies such as bulbs  \\n20 https://retail.economictimes.indiatimes.com/blog/the-roadmap-to-fostering-the-growth-of-indias-e-grocery-market/98810891\\nAlthough a small segment of overall grocery retail in India, the online grocery market is \\nexperiencing significant growth20 due to wide product variety, convenience, seamless \\ndigital payment integration, quick delivery, and effective social media marketing strategies. \\nConsumers choose between offline and online shopping based on the urgency of their \\nneeds, purchase amount and return policies. Offering quick delivery and eliminating \\nminimum order requirements can boost online purchases in this category.\\nKey insights \\nPlatform preference: Two distinct purchase patterns have emerged across India: \\nmonthly bulk purchases and small-value emergency purchases. Flipkart emerged as \\nthe most preferred marketplace among urban dwellers and rest of India consumers, \\nwith 32% of respondents preferring it for the grocery category. Flipkart is the go-\\nto marketplace for its convenient bulk purchases, competitive pricing, diverse \\nselection, reliable delivery and lack of minimum order requirements. Amazon \\nemerged as the second preferred marketplace. Consumers appreciated BigBasket, \\nJioMart and Swiggy Instamart for their swift delivery and excellent customer service. \\n#transparent pricing, #quick delivery, #shelf life, #no minimum order value\\n66%\\nof the rest of India shoppers tried online platform/brands for \\ngrocery shopping after seeing content on social media.', 'PwC | How India shops online: Consumer preferences in the metropolises and tier 1-4 cities\\n45 \\n“\\n“\\nWhenever I think of groceries JioMart comes to my mind as we have been using it every \\nmonth for many years.”\\nYes, the e-commerce platforms have so many offers available. For example, if you go \\nto Amazon, there is a rewards section where you can find offers like 10% cashback on \\npurchases of INR 1,000 or more. Additionally, if you pay through certain platforms, you can \\nreceive cashback. I’ve received cashback from these offers.”\\n- Female, late millennial, rest of India \\n- Female, late millennial, urban dwellers\\nPlatform loyalty: Payment options linked to discounts tend to be a strong draw \\nfor consumers across all cohorts irrespective of geolocation. Loyalty programmes \\noffering immediate benefits and subscription services also attract first-time \\nconsumers, especially in metros. Since brand (new-age D2C and niche) availability \\nis a challenge, the customers seem to gravitate to the platforms having the \\nmaximum range and familiar interface. \\nThe drivers: Urban dwellers engage in detailed comparison shopping involving \\nscrolling through products, checking prices and comparing offers meticulously. \\nConversely, for rest of India consumers, platform familiarity and delivery date are \\nthe primary driving factors, followed by offers and discounts. Different age groups \\nacross geographies approach shopping in this category in their own unique way. \\nLate millennials and Gen X consumers tend to favour bulk purchases for their \\ngroceries, showcasing strong brand loyalty as they plan for the month. They also \\nprioritise discounts and good deals on bulk orders. Both urban dwellers and rest \\nof India early millennials prefer monthly purchases for essentials and quick delivery \\nfor need based products. Gen Z tends to prefer making smaller value purchases, \\nprioritising quick delivery options, and showing less concern about additional \\ndelivery charges on smaller orders. \\nOffline versus online: Both urban dwellers and rest of India consumers prefer \\npurchasing fresh produce and non-vegetarian grocery items through in-person \\nor offline channels. This preference arises from concerns regarding quality, the \\nabsence of a return policy, freshness issues or a desire to endorse local businesses. \\nIn contrast, snacks, bathing products and other essentials, which have minimum \\nrisk of low quality and the option of quick delivery and bulk orders, are among the', 'top-selling items on grocery apps.', 'PwC | How India shops online: Consumer preferences in the metropolises and tier 1-4 cities\\n46 \\nPresent: Parameters which can help in maintaining category hygiene\\nNo minimum cart value for free, quick and tracked delivery: This could serve as \\na significant differentiator and drive increased order frequency, especially for small, \\nroutine purchases. \\nAn established return policy to accommodate customers with various awareness \\nlevels. \\nCompetitive pricing and transparency to clearly communicate the cost breakdown \\nfor products, including any additional fees or charges, to maintain customer trust \\nenabling trials with smaller pack sizes \\nKey recommendations: Present, short and long term\\nNew entrants in the online grocery sector need to meet fundamental standards of quality, \\naffordability and prompt delivery. It is essential for platforms to prioritise enhancing customer \\nexperience to boost engagement and drive higher conversion rates. \\nFigure 18: Channel selection for shopping \\n0%\\n10%\\n20%\\n30%\\n40%\\n50%\\n60% 56%\\n54% 55%\\n51%\\n46% 47%\\n41%\\n56%\\n39%\\n53%\\nProducts category/nature\\nof product to be shopped\\n(e.g. offline shopping is\\npreferred if physical\\nproduct assessment is\\nrequired)\\nO ffers/discount s\\navailabl e\\nBased on\\nurgency of\\nproduct\\nrequirements\\nRecommendatio n\\nby friends\\nPromotion by\\nsocial media\\ninfluencer\\nBase: Urban dwellers - 431; Rest of India -192Source: PwC analysis\\nShort term: Parameters which can enable positive engagement with the \\ncategory \\nProvide features like voice search, multiple filters and sorting options, event-\\nthemed offers, notifications and picture-in-picture video of newly launched products \\nto enhance the user experience and support product discovery and purchase \\nconsideration. \\nUrban dwellers Rest of Indi a', 'PwC | How India shops online: Consumer preferences in the metropolises and tier 1-4 cities\\n47 \\nLong term: Parameters which can create disruptions in the category \\nGuaranteed product authenticity: Implement stringent quality checks and \\nverification processes to guarantee the authenticity of grocery items. This could \\ninclude partnering directly with producers and manufacturers and providing \\ncustomers with traceability information for products, e.g. freshness guarantee, \\nparticularly for perishable, non-vegetarian items.\\nPwC | How India shops online: Consumer preferences in the metropolises and tier 1–4 cities 47  \\nEvent-driven content, personalised recommendations and pricing with \\ntransparency: The idea is to increase conversion and attract new rest of India \\ncustomers. For urban users, this will strengthen brand loyalty and trust even more. \\nCart sharing: To promote convenience and a smooth shopping experience among \\nfamily and friends.', 'PwC | How India shops online: Consumer preferences in the metropolises and tier 1-4 cities\\n48 \\nSmall towns can drive big business \\nIn the growth narrative of India’s economy, the spotlight often shines on its bustling metros \\nand tier-1 cities. However, the country’s tier-2, 3 and 4 cities are witnessing rapid growth, \\nespecially since the pandemic. 21   \\n21 https://www.pwc.in/research-insights/full-potential-revival-and-growth.html \\nFigure 19: 6A model\\nSource: PwC analysis', 'PwC | How India shops online: Consumer preferences in the metropolises and tier 1-4 cities\\n49 \\nDesigning experiences that resonate with all users in India is no mean feat. The e-commerce \\nexperience that has worked in the urban centres may not necessarily work for the rest of \\nIndia. The latter will need a more in-depth, human-centric view that acknowledges and \\ncapitalises on the diversity that exists across in these small towns and cities. \\n \\nE-commerce is on the cusp of a revolution, having penetrated to the farthest corners of \\nour country and providing access to several new shoppers.22  This increased reach can be \\nattributed to social media penetration in the country which has heightened awareness about \\ne-commerce among Indian customers. However, accessibility and affordability of products \\nwill remain key drivers. One must consider that the consumer base is constantly evolving \\nand that consumers often adopt new ways of shopping (enabled through new technologies/\\ndesigns/business models, etc.) quickly, especially when their unmet or unarticulated needs \\nare fulfilled through the rapid phase of innovations. Utilising the nuances of customer \\nbehaviour and segment-specific insights brought out by this report, organisations can \\nexpedite the crafting of e-commerce experiences that resonate with consumers in these \\nregions (rest of India).  \\nWhile price sensitivity is a key decision-making factor in rest of India, it is crucial to \\nunderstand that customers’ value perception is based on the total service package (delivery, \\nreturn experience, loyalty, etc.) delivered by the brand. Newer online users warm up to \\nbrands that offer to educate them and provide them guidance like a trusted advisor would. \\nThe need of the hour is a well thought-out brand and social media strategy that focuses on \\nthis group of users’ unique functional and emotional needs and engages them through their \\npreferred channel(s).\\nIn conclusion, the call to action is to be simple, clear and local: that is going to be the key \\nto growth in these markets. It is not just about technology; it is about making people feel \\nwelcome, included and understood. It is not just about business; it is about connecting \\nwith rest of India’s unique spirit. Business leaders could use these two ‘engines’ of ‘urban \\ndwellers’ and ‘rest of India’ to continue to innovate and create products, services and \\nexperiences that are not only made in India for India, but also made in India for the world.', 'Emerging brands will not only recognise the similarities and use them to drive efficiencies \\nbut also respect the differences and leverage them to drive meaningful differentiation by \\nserving small towns profitably, thus driving big business. \\n22 https://retail.economictimes.indiatimes.com/news/e-commerce/e-tailing/e-commerce-revolution-in-india-gets-its-second-wind-post-covid-19/77460376', 'PwC | How India shops online: Consumer preferences in the metropolises and tier 1-4 cities\\n50 \\nContact us \\nContributors\\nAnshumala Srivastava \\nAssociate Director-Experience Consulting \\nPwC India \\nanshumala.srivastava@pwc.com \\nPriyalakshmi Kanotra \\nSenior Associate \\nSudip Gupta \\nDirector-Experience Consulting \\nPwC India \\nsudip.gupta@pwc.com \\nMahamaya Subhadayini \\nSenior Associate\\nShreyas Ghosalkar \\nAssociate\\nVishnupriya Sengupta, Rubina Malhotra, Dion D’Souza\\nEditorial\\nAdvika Pradhan, Arindam Das, Rajul Jain, Vidhi Vaid\\nDesigners\\nSomick Goswami \\nPartner and Business \\nTransformation Leader \\nPwC India \\nsomick.goswami@pwc.com \\nPrateek Sinha \\nPartner and Experience \\nConsulting Leader\\nPwC India\\nprateek.sinha@pwc.com\\nRavi Kapoor \\nPartner and Retail and \\nConsumer Goods Leader \\nPwC India \\nravi.kapoor@pwc.com\\nPwC | How India shops online: Consumer preferences in the metropolises and tier 1–4 cities 50', 'PwC | How India shops online: Consumer preferences in the metropolises and tier 1-4 cities\\n51 \\nNotes\\n......................................................................................................................................................................................\\n......................................................................................................................................................................................\\n......................................................................................................................................................................................\\n......................................................................................................................................................................................\\n......................................................................................................................................................................................\\n......................................................................................................................................................................................\\n......................................................................................................................................................................................\\n......................................................................................................................................................................................\\n......................................................................................................................................................................................\\n......................................................................................................................................................................................\\n......................................................................................................................................................................................\\n......................................................................................................................................................................................\\n......................................................................................................................................................................................', '......................................................................................................................................................................................\\n......................................................................................................................................................................................\\n......................................................................................................................................................................................\\n......................................................................................................................................................................................\\n......................................................................................................................................................................................\\n......................................................................................................................................................................................\\n......................................................................................................................................................................................\\n......................................................................................................................................................................................\\n......................................................................................................................................................................................\\n......................................................................................................................................................................................\\n......................................................................................................................................................................................\\n......................................................................................................................................................................................\\n......................................................................................................................................................................................', '......................................................................................................................................................................................\\n......................................................................................................................................................................................\\n......................................................................................................................................................................................\\n......................................................................................................................................................................................\\n......................................................................................................................................................................................\\n......................................................................................................................................................................................\\n......................................................................................................................................................................................\\n......................................................................................................................................................................................\\n......................................................................................................................................................................................', 'PwC | How India shops online: Consumer preferences in the metropolises and tier 1-4 cities\\n52 \\nNotes\\n......................................................................................................................................................................................\\n......................................................................................................................................................................................\\n......................................................................................................................................................................................\\n......................................................................................................................................................................................\\n......................................................................................................................................................................................\\n......................................................................................................................................................................................\\n......................................................................................................................................................................................\\n......................................................................................................................................................................................\\n......................................................................................................................................................................................\\n......................................................................................................................................................................................\\n......................................................................................................................................................................................\\n......................................................................................................................................................................................\\n......................................................................................................................................................................................', '......................................................................................................................................................................................\\n......................................................................................................................................................................................\\n......................................................................................................................................................................................\\n......................................................................................................................................................................................\\n......................................................................................................................................................................................\\n......................................................................................................................................................................................\\n......................................................................................................................................................................................\\n......................................................................................................................................................................................\\n......................................................................................................................................................................................\\n......................................................................................................................................................................................\\n......................................................................................................................................................................................\\n......................................................................................................................................................................................\\n......................................................................................................................................................................................', '......................................................................................................................................................................................\\n......................................................................................................................................................................................\\n......................................................................................................................................................................................\\n......................................................................................................................................................................................\\n......................................................................................................................................................................................\\n......................................................................................................................................................................................\\n......................................................................................................................................................................................\\n......................................................................................................................................................................................\\n......................................................................................................................................................................................', 'PwC | How India shops online: Consumer preferences in the metropolises and tier 1-4 cities\\n53 \\nNotes\\n......................................................................................................................................................................................\\n......................................................................................................................................................................................\\n......................................................................................................................................................................................\\n......................................................................................................................................................................................\\n......................................................................................................................................................................................\\n......................................................................................................................................................................................\\n......................................................................................................................................................................................\\n......................................................................................................................................................................................\\n......................................................................................................................................................................................\\n......................................................................................................................................................................................\\n......................................................................................................................................................................................\\n......................................................................................................................................................................................\\n......................................................................................................................................................................................', '......................................................................................................................................................................................\\n......................................................................................................................................................................................\\n......................................................................................................................................................................................\\n......................................................................................................................................................................................\\n......................................................................................................................................................................................\\n......................................................................................................................................................................................\\n......................................................................................................................................................................................\\n......................................................................................................................................................................................\\n......................................................................................................................................................................................\\n......................................................................................................................................................................................\\n......................................................................................................................................................................................\\n......................................................................................................................................................................................\\n......................................................................................................................................................................................', '......................................................................................................................................................................................\\n......................................................................................................................................................................................\\n......................................................................................................................................................................................\\n......................................................................................................................................................................................\\n......................................................................................................................................................................................\\n......................................................................................................................................................................................\\n......................................................................................................................................................................................\\n......................................................................................................................................................................................\\n......................................................................................................................................................................................', 'pwc.in\\nIn this document, PwC refers to PricewaterhouseCoopers Private Limited (a limited liability company in India having Corporate \\nIdentity Number or CIN : U74140WB1983PTC036093), which is a member firm of PricewaterhouseCoopers International \\nLimited (PwCIL), each member firm of which is a separate legal entity.\\nThis document does not constitute professional advice. The information in this document has been obtained or derived from \\nsources believed by PricewaterhouseCoopers Private Limited (PwCPL) to be reliable but PwCPL does not represent that this \\ninformation is accurate or complete. Any opinions or estimates contained in this document represent the judgment of PwCPL \\nat this time and are subject to change without notice. Readers of this publication are advised to seek their own professional \\nadvice before taking any course of action or decision, for which they are entirely responsible, based on the contents of this \\npublication. PwCPL neither accepts or assumes any responsibility or liability to any reader of this publication in respect of the \\ninformation contained within it or for any decisions readers may take or decide not to or fail to take.\\n© 2024 PricewaterhouseCoopers Private Limited. All rights reserved.\\nData Classification: DC0 (Public)\\nAbout PwC\\nAt PwC, our purpose is to build trust in society and solve important problems. We’re a \\nnetwork of firms in 151 countries with over 360,000 people who are committed to delivering \\nquality in assurance, advisory and tax services. Find out more and tell us what matters to \\nyou by visiting us at www.pwc.com.\\nPwC refers to the PwC network and/or one or more of its member firms, each of which is a \\nseparate legal entity. Please see www.pwc.com/structure for further details.\\n© 2024 PwC. All rights reserved.']\n"
          ]
        }
      ]
    },
    {
      "cell_type": "markdown",
      "source": [
        "**Configure Open AI key**"
      ],
      "metadata": {
        "id": "bXw-aT_2A33F"
      },
      "id": "bXw-aT_2A33F"
    },
    {
      "cell_type": "code",
      "source": [
        "import getpass\n",
        "\n",
        "# setup the API Key\n",
        "api_key = getpass.getpass(\"Enter your OpenAI API key: \")"
      ],
      "metadata": {
        "colab": {
          "base_uri": "https://localhost:8080/"
        },
        "id": "FyHpEdbn0MlA",
        "outputId": "653eea11-68bd-47ad-8d9c-39c22efe53be"
      },
      "id": "FyHpEdbn0MlA",
      "execution_count": 7,
      "outputs": [
        {
          "name": "stdout",
          "output_type": "stream",
          "text": [
            "Enter your OpenAI API key: ··········\n"
          ]
        }
      ]
    },
    {
      "cell_type": "markdown",
      "source": [
        "# Create text embeddings with Open AI embedding model\n",
        "\n",
        "Use the Open AI for text embeddings, developed by Google.\n",
        "\n",
        "Text embeddings are a dense vector representation of a p\\iece of content such that, if two pieces of content are semantically similar, their respective embeddings are located near each other in the embedding vector space. This representation can be used to solve common NLP tasks, such as:\n",
        "\n",
        "\n",
        "*   Semantic search: Search text ranked by semantic similarity.\n",
        "*   Recommendation: Return items with text attributes similar to the given text.\n",
        "*   Classification: Return the class of items whose text attributes are similar to the given text.\n",
        "*   Clustering: Cluster items whose text attributes are similar to the given text.\n",
        "*   Outlier Detection: Return items where text attributes are least related to the given text.\n",
        "\n",
        "The Open AI text-embeddings API lets you create a text embedding using Generative AI on Vertex AI. The text-embedding-3-large model accepts a maximum of 4096 input tokens (i.e. words) and outputs 1024-dimensional vector embeddings."
      ],
      "metadata": {
        "id": "hKHXwtSGwNPr"
      },
      "id": "hKHXwtSGwNPr"
    },
    {
      "cell_type": "code",
      "source": [
        "from langchain.vectorstores.redis import Redis\n",
        "from langchain.text_splitter import RecursiveCharacterTextSplitter\n",
        "from langchain.document_loaders import UnstructuredURLLoader\n",
        "from langchain.chains import RetrievalQA\n",
        "from langchain.document_loaders import UnstructuredFileLoader\n",
        "from langchain_openai import OpenAIEmbeddings\n",
        "\n",
        "\n",
        "embeddings = OpenAIEmbeddings(\n",
        "    model=\"text-embedding-3-large\",\n",
        "    dimensions=1024,\n",
        "    api_key=api_key\n",
        ")\n",
        "\n",
        "def get_vectordb() -> Redis:\n",
        "    \"\"\"Create the Redis vectordb.\"\"\"\n",
        "    # Load Redis with documents\n",
        "    vectordb = Redis.from_documents(\n",
        "        documents=chunks,\n",
        "        embedding=embeddings,\n",
        "        index_name=INDEX_NAME,\n",
        "        redis_url=REDIS_URL\n",
        "    )\n",
        "    return vectordb\n",
        "\n",
        "\n",
        "redis = get_vectordb()\n"
      ],
      "metadata": {
        "id": "A6H_vHkrSxco"
      },
      "id": "A6H_vHkrSxco",
      "execution_count": 8,
      "outputs": []
    },
    {
      "cell_type": "markdown",
      "source": [
        "# Include RAG\n",
        "\n",
        "We're going to build a complete RAG pipeline from scratch incorporating the following components:\n",
        "\n",
        "Standard retrieval and chat completion\n",
        "Dense content representation to improve accuracy\n",
        "Query re-writing to improve accuracy\n",
        "Semantic caching to improve performance\n",
        "Conversational session history to improve personalization"
      ],
      "metadata": {
        "id": "kVJdyD1OVYE-"
      },
      "id": "kVJdyD1OVYE-"
    },
    {
      "cell_type": "markdown",
      "source": [
        "### Define Prompt template\n",
        "PromptTemplate defines the exect text of the response that would be fed to the LLM. This step is optional, but the defaults usually work well for OpenAI and might fall short for other models."
      ],
      "metadata": {
        "id": "aNtLTGcvR-IS"
      },
      "id": "aNtLTGcvR-IS"
    },
    {
      "cell_type": "code",
      "source": [
        "#@title Function to define prompt template\n",
        "\n",
        "def create_prompt():\n",
        "    \"\"\"Create the QA chain.\"\"\"\n",
        "    from langchain.prompts import PromptTemplate\n",
        "    from langchain.chains import RetrievalQA\n",
        "\n",
        "    # Define our prompt\n",
        "    prompt_template = \"\"\"Use only the following pieces of context to answer the question. If you don't know the answer, say that you don't know, don't try to make up an answer.\n",
        "\n",
        "    This should be in the following format:\n",
        "\n",
        "    Question: [question here]\n",
        "    Answer: [answer here]\n",
        "\n",
        "    Begin!\n",
        "\n",
        "    Context:\n",
        "    ---------\n",
        "    {context}\n",
        "    ---------\n",
        "    Question: {question}\n",
        "    Answer:\"\"\"\n",
        "\n",
        "    prompt = PromptTemplate(\n",
        "        template=prompt_template,\n",
        "        input_variables=[\"context\", \"question\"]\n",
        "    )\n",
        "    return prompt\n"
      ],
      "metadata": {
        "id": "BCtEFE8ziT5d"
      },
      "id": "BCtEFE8ziT5d",
      "execution_count": 9,
      "outputs": []
    },
    {
      "cell_type": "code",
      "source": [
        "from langchain_openai import OpenAI\n",
        "\n",
        "llm = OpenAI(\n",
        "    model=\"gpt-3.5-turbo-instruct\",\n",
        "    temperature=0.5,\n",
        "    max_retries=2,\n",
        "    api_key=api_key,\n",
        "    verbose=True\n",
        ")\n",
        "\n",
        "from langchain.cache import RedisSemanticCache\n",
        "from langchain.globals import set_llm_cache\n",
        "\n",
        "# Semantic cache\n",
        "set_llm_cache(\n",
        "    RedisSemanticCache(redis_url=REDIS_URL, embedding=embeddings, score_threshold=0.05)\n",
        ")\n",
        "\n",
        "qa = RetrievalQA.from_chain_type(\n",
        "    llm=llm,\n",
        "    chain_type=\"stuff\",\n",
        "    retriever=redis.as_retriever(search_type=\"similarity_distance_threshold\",search_kwargs={\"distance_threshold\":0.5}),\n",
        "    #return_source_documents=True,\n",
        "    chain_type_kwargs={\"prompt\": create_prompt()},\n",
        "    verbose=True\n",
        "    )"
      ],
      "metadata": {
        "id": "Hru_djYR3eAf"
      },
      "id": "Hru_djYR3eAf",
      "execution_count": 10,
      "outputs": []
    },
    {
      "cell_type": "code",
      "source": [
        "%%time\n",
        "qa.invoke('What are some motivations for shopping online?')['result']"
      ],
      "metadata": {
        "colab": {
          "base_uri": "https://localhost:8080/",
          "height": 107
        },
        "id": "XelSUbTkS7rj",
        "outputId": "2e731dd3-e276-4c00-c3ac-2ef01e0d6659"
      },
      "id": "XelSUbTkS7rj",
      "execution_count": 31,
      "outputs": [
        {
          "output_type": "stream",
          "name": "stdout",
          "text": [
            "CPU times: user 104 ms, sys: 4.92 ms, total: 109 ms\n",
            "Wall time: 1.91 s\n"
          ]
        },
        {
          "output_type": "execute_result",
          "data": {
            "text/plain": [
              "' Planned purchases with specific timelines, wider range of price options and brands available, absence of physical stores for premium brands, stockouts of certain products, lack of knowledgeable staff in offline stores, lack of discounts and special offers in physical stores, and browsing through online shopping platforms during free time.'"
            ],
            "application/vnd.google.colaboratory.intrinsic+json": {
              "type": "string"
            }
          },
          "metadata": {},
          "execution_count": 31
        }
      ]
    },
    {
      "cell_type": "code",
      "source": [
        "%%time\n",
        "qa.invoke('What are the some drivers for Indians to shop online?')['result']"
      ],
      "metadata": {
        "colab": {
          "base_uri": "https://localhost:8080/"
        },
        "id": "OkIew4jlem0a",
        "outputId": "3a799758-4ea2-4d6e-eb76-23a661c82253"
      },
      "id": "OkIew4jlem0a",
      "execution_count": 32,
      "outputs": [
        {
          "output_type": "stream",
          "name": "stdout",
          "text": [
            "CPU times: user 33.2 ms, sys: 2.92 ms, total: 36.1 ms\n",
            "Wall time: 475 ms\n"
          ]
        },
        {
          "output_type": "execute_result",
          "data": {
            "text/plain": [
              "{'query': 'What are the some drivers for Indians to shop online?',\n",
              " 'result': ' Planned purchases with specific timelines, wider range of price options and brands available, absence of physical stores for premium brands, stockouts of certain products, lack of knowledgeable staff in offline stores, lack of discounts and special offers in physical stores, and browsing through online shopping platforms during free time.'}"
            ]
          },
          "metadata": {},
          "execution_count": 32
        }
      ]
    },
    {
      "cell_type": "code",
      "source": [
        "%%time\n",
        "qa.invoke('How do Indians like to pay for shopping online?')['result']"
      ],
      "metadata": {
        "colab": {
          "base_uri": "https://localhost:8080/",
          "height": 71
        },
        "id": "B2f9CC3JI2BL",
        "outputId": "50b48710-c4b2-49a4-ce12-58a11609ac6e"
      },
      "id": "B2f9CC3JI2BL",
      "execution_count": 33,
      "outputs": [
        {
          "output_type": "stream",
          "name": "stdout",
          "text": [
            "CPU times: user 90.2 ms, sys: 5.03 ms, total: 95.2 ms\n",
            "Wall time: 1.81 s\n"
          ]
        },
        {
          "output_type": "execute_result",
          "data": {
            "text/plain": [
              "' Indians like to pay for shopping online using UPI, cash on delivery, credit/debit cards, EMI, and e-wallets.'"
            ],
            "application/vnd.google.colaboratory.intrinsic+json": {
              "type": "string"
            }
          },
          "metadata": {},
          "execution_count": 33
        }
      ]
    },
    {
      "cell_type": "code",
      "source": [
        "%%time\n",
        "qa.invoke('How do Indians prefer to pay when they shop online?')['result']"
      ],
      "metadata": {
        "colab": {
          "base_uri": "https://localhost:8080/",
          "height": 107
        },
        "id": "N8kVo4Ulg_Wz",
        "outputId": "eea68b80-eed3-4afb-b689-cf6613947cb4"
      },
      "id": "N8kVo4Ulg_Wz",
      "execution_count": 17,
      "outputs": [
        {
          "output_type": "stream",
          "name": "stdout",
          "text": [
            "CPU times: user 35.9 ms, sys: 2.88 ms, total: 38.7 ms\n",
            "Wall time: 522 ms\n"
          ]
        },
        {
          "output_type": "execute_result",
          "data": {
            "text/plain": [
              "' UPI, cash on delivery, credit/debit cards, EMI, and e-wallets are all popular methods of payment for online shopping in India. However, cash on delivery remains the preferred option among rest of India consumers due to concerns about fraud.'"
            ],
            "application/vnd.google.colaboratory.intrinsic+json": {
              "type": "string"
            }
          },
          "metadata": {},
          "execution_count": 17
        }
      ]
    },
    {
      "cell_type": "code",
      "source": [
        "%%time\n",
        "qa.invoke('What are some known challenges in shopping online?')['result']"
      ],
      "metadata": {
        "colab": {
          "base_uri": "https://localhost:8080/",
          "height": 107
        },
        "id": "LLHoWVshJJHK",
        "outputId": "f954f6fb-4a77-4e0b-fcca-82ce2e2593dc"
      },
      "id": "LLHoWVshJJHK",
      "execution_count": 28,
      "outputs": [
        {
          "output_type": "stream",
          "name": "stdout",
          "text": [
            "CPU times: user 46.6 ms, sys: 743 µs, total: 47.3 ms\n",
            "Wall time: 1.25 s\n"
          ]
        },
        {
          "output_type": "execute_result",
          "data": {
            "text/plain": [
              "' Some known challenges in shopping online include concerns about payment fraud, credibility of unfamiliar websites, doubts regarding product quality matching the images shown, logistical overload, regulations, access restrictions, and inconsistent delivery experiences.'"
            ],
            "application/vnd.google.colaboratory.intrinsic+json": {
              "type": "string"
            }
          },
          "metadata": {},
          "execution_count": 28
        }
      ]
    },
    {
      "cell_type": "code",
      "source": [
        "%%time\n",
        "qa.invoke('What are some known challenges when shopping online?')['result']"
      ],
      "metadata": {
        "colab": {
          "base_uri": "https://localhost:8080/",
          "height": 89
        },
        "id": "5yg7Pc4zhaOp",
        "outputId": "64c2b503-be0b-4755-8910-111c406a8a50"
      },
      "id": "5yg7Pc4zhaOp",
      "execution_count": 27,
      "outputs": [
        {
          "output_type": "stream",
          "name": "stdout",
          "text": [
            "CPU times: user 24.8 ms, sys: 26 µs, total: 24.9 ms\n",
            "Wall time: 576 ms\n"
          ]
        },
        {
          "output_type": "execute_result",
          "data": {
            "text/plain": [
              "' Concerns about payment fraud, credibility of unfamiliar websites, doubts regarding product quality matching the images shown, logistical overload, regulations, access restrictions, and inconsistent experiences with deliveries.'"
            ],
            "application/vnd.google.colaboratory.intrinsic+json": {
              "type": "string"
            }
          },
          "metadata": {},
          "execution_count": 27
        }
      ]
    },
    {
      "cell_type": "code",
      "source": [
        "%%time\n",
        "qa.invoke('How home and kitchen segment is growing?')['result']"
      ],
      "metadata": {
        "colab": {
          "base_uri": "https://localhost:8080/",
          "height": 125
        },
        "id": "5PVFYBW1NNKm",
        "outputId": "852374cc-b7ad-439c-cbc9-0546af86e71a"
      },
      "id": "5PVFYBW1NNKm",
      "execution_count": 29,
      "outputs": [
        {
          "output_type": "stream",
          "name": "stdout",
          "text": [
            "CPU times: user 71.1 ms, sys: 2.16 ms, total: 73.2 ms\n",
            "Wall time: 1.97 s\n"
          ]
        },
        {
          "output_type": "execute_result",
          "data": {
            "text/plain": [
              "' The home and kitchen segment in the Indian market is growing at a CAGR of 10%, driven by factors such as urbanization, a young population, and increasing aspirations of the middle class. The demand for modern and modular furniture solutions, expanding urban landscape, and growing preference for durable and versatile home spaces have also contributed to the growth in this category.'"
            ],
            "application/vnd.google.colaboratory.intrinsic+json": {
              "type": "string"
            }
          },
          "metadata": {},
          "execution_count": 29
        }
      ]
    },
    {
      "cell_type": "code",
      "source": [
        "%%time\n",
        "qa.invoke('How home and kitchen segment is growing in India?')['result']"
      ],
      "metadata": {
        "colab": {
          "base_uri": "https://localhost:8080/",
          "height": 125
        },
        "id": "gVsqfEm0i-p6",
        "outputId": "5cf5f1b5-75d5-485c-c92f-d18d82606017"
      },
      "id": "gVsqfEm0i-p6",
      "execution_count": 30,
      "outputs": [
        {
          "output_type": "stream",
          "name": "stdout",
          "text": [
            "CPU times: user 28.3 ms, sys: 876 µs, total: 29.2 ms\n",
            "Wall time: 389 ms\n"
          ]
        },
        {
          "output_type": "execute_result",
          "data": {
            "text/plain": [
              "' The home and kitchen segment in the Indian market is growing at a CAGR of 10%, driven by factors such as urbanization, a young population, and increasing aspirations of the middle class. The demand for modern and modular furniture solutions, expanding urban landscape, and growing preference for durable and versatile home spaces have also contributed to the growth in this category.'"
            ],
            "application/vnd.google.colaboratory.intrinsic+json": {
              "type": "string"
            }
          },
          "metadata": {},
          "execution_count": 30
        }
      ]
    },
    {
      "cell_type": "code",
      "source": [
        "qa.invoke('What are the effects of social media on online shopping?')['result']"
      ],
      "metadata": {
        "id": "bgfyRlzCNquj"
      },
      "id": "bgfyRlzCNquj",
      "execution_count": null,
      "outputs": []
    },
    {
      "cell_type": "code",
      "source": [
        "qa.invoke('What are some relevant items that are shopped online?')['result']"
      ],
      "metadata": {
        "id": "xClDk__XHFw-"
      },
      "id": "xClDk__XHFw-",
      "execution_count": null,
      "outputs": []
    },
    {
      "cell_type": "code",
      "source": [
        "import gradio as gr\n",
        "\n",
        "def handle(query):\n",
        "    response = qa.run(query)\n",
        "    return response\n",
        "\n",
        "iface = gr.Interface(fn=handle, inputs=\"text\", outputs=\"text\")\n",
        "iface.launch(share=True)"
      ],
      "metadata": {
        "id": "UmsYlwP9XZ2G"
      },
      "id": "UmsYlwP9XZ2G",
      "execution_count": null,
      "outputs": []
    },
    {
      "cell_type": "code",
      "source": [
        "iface.close()"
      ],
      "metadata": {
        "id": "nvmnrq_3YY6p"
      },
      "id": "nvmnrq_3YY6p",
      "execution_count": null,
      "outputs": []
    }
  ],
  "metadata": {
    "kernelspec": {
      "display_name": "Python 3",
      "language": "python",
      "name": "python3"
    },
    "language_info": {
      "codemirror_mode": {
        "name": "ipython",
        "version": 3
      },
      "file_extension": ".py",
      "mimetype": "text/x-python",
      "name": "python",
      "nbconvert_exporter": "python",
      "pygments_lexer": "ipython3",
      "version": "3.10.10"
    },
    "colab": {
      "provenance": [],
      "toc_visible": true
    }
  },
  "nbformat": 4,
  "nbformat_minor": 5
}