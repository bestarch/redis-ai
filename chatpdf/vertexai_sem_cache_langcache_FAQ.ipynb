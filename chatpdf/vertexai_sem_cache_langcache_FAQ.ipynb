{
 "cells": [
  {
   "cell_type": "markdown",
   "id": "d5abed32",
   "metadata": {
    "colab_type": "text",
    "id": "view-in-github"
   },
   "source": [
    "<a href=\"https://colab.research.google.com/github/bestarch/Redis-Workshops/blob/main/11-LLM_GCP_Workshop/GCP_GenAI_demo_v2.ipynb\" target=\"_parent\"><img src=\"https://colab.research.google.com/assets/colab-badge.svg\" alt=\"Open In Colab\"/></a>"
   ]
  },
  {
   "cell_type": "code",
   "execution_count": null,
   "id": "HqRohfRRZgFWtj1zYJIyvR5n",
   "metadata": {
    "id": "HqRohfRRZgFWtj1zYJIyvR5n",
    "tags": []
   },
   "outputs": [
    {
     "name": "stdout",
     "output_type": "stream",
     "text": [
      "/Users/abhishek.srivastava/apps/workspace/redis-ai/chatpdf\n",
      "Requirement already satisfied: pip in ./venv/lib/python3.13/site-packages (25.1.1)\n",
      "Requirement already satisfied: langchain in ./venv/lib/python3.13/site-packages (0.3.26)\n",
      "Requirement already satisfied: gradio in ./venv/lib/python3.13/site-packages (5.37.0)\n",
      "Collecting gradio\n",
      "  Downloading gradio-5.38.0-py3-none-any.whl.metadata (16 kB)\n",
      "Requirement already satisfied: langchain-core<1.0.0,>=0.3.66 in ./venv/lib/python3.13/site-packages (from langchain) (0.3.68)\n",
      "Requirement already satisfied: langchain-text-splitters<1.0.0,>=0.3.8 in ./venv/lib/python3.13/site-packages (from langchain) (0.3.8)\n",
      "Requirement already satisfied: langsmith>=0.1.17 in ./venv/lib/python3.13/site-packages (from langchain) (0.4.5)\n",
      "Requirement already satisfied: pydantic<3.0.0,>=2.7.4 in ./venv/lib/python3.13/site-packages (from langchain) (2.11.7)\n",
      "Requirement already satisfied: SQLAlchemy<3,>=1.4 in ./venv/lib/python3.13/site-packages (from langchain) (2.0.41)\n",
      "Requirement already satisfied: requests<3,>=2 in ./venv/lib/python3.13/site-packages (from langchain) (2.32.4)\n",
      "Requirement already satisfied: PyYAML>=5.3 in ./venv/lib/python3.13/site-packages (from langchain) (6.0.2)\n",
      "Requirement already satisfied: tenacity!=8.4.0,<10.0.0,>=8.1.0 in ./venv/lib/python3.13/site-packages (from langchain-core<1.0.0,>=0.3.66->langchain) (8.5.0)\n",
      "Requirement already satisfied: jsonpatch<2.0,>=1.33 in ./venv/lib/python3.13/site-packages (from langchain-core<1.0.0,>=0.3.66->langchain) (1.33)\n",
      "Requirement already satisfied: packaging<25,>=23.2 in ./venv/lib/python3.13/site-packages (from langchain-core<1.0.0,>=0.3.66->langchain) (24.2)\n",
      "Requirement already satisfied: typing-extensions>=4.7 in ./venv/lib/python3.13/site-packages (from langchain-core<1.0.0,>=0.3.66->langchain) (4.14.1)\n",
      "Requirement already satisfied: jsonpointer>=1.9 in ./venv/lib/python3.13/site-packages (from jsonpatch<2.0,>=1.33->langchain-core<1.0.0,>=0.3.66->langchain) (3.0.0)\n",
      "Requirement already satisfied: annotated-types>=0.6.0 in ./venv/lib/python3.13/site-packages (from pydantic<3.0.0,>=2.7.4->langchain) (0.7.0)\n",
      "Requirement already satisfied: pydantic-core==2.33.2 in ./venv/lib/python3.13/site-packages (from pydantic<3.0.0,>=2.7.4->langchain) (2.33.2)\n",
      "Requirement already satisfied: typing-inspection>=0.4.0 in ./venv/lib/python3.13/site-packages (from pydantic<3.0.0,>=2.7.4->langchain) (0.4.1)\n",
      "Requirement already satisfied: charset_normalizer<4,>=2 in ./venv/lib/python3.13/site-packages (from requests<3,>=2->langchain) (3.4.2)\n",
      "Requirement already satisfied: idna<4,>=2.5 in ./venv/lib/python3.13/site-packages (from requests<3,>=2->langchain) (3.10)\n",
      "Requirement already satisfied: urllib3<3,>=1.21.1 in ./venv/lib/python3.13/site-packages (from requests<3,>=2->langchain) (2.5.0)\n",
      "Requirement already satisfied: certifi>=2017.4.17 in ./venv/lib/python3.13/site-packages (from requests<3,>=2->langchain) (2025.7.9)\n",
      "Requirement already satisfied: aiofiles<25.0,>=22.0 in ./venv/lib/python3.13/site-packages (from gradio) (24.1.0)\n",
      "Requirement already satisfied: anyio<5.0,>=3.0 in ./venv/lib/python3.13/site-packages (from gradio) (4.9.0)\n",
      "Requirement already satisfied: audioop-lts<1.0 in ./venv/lib/python3.13/site-packages (from gradio) (0.2.1)\n",
      "Requirement already satisfied: brotli>=1.1.0 in ./venv/lib/python3.13/site-packages (from gradio) (1.1.0)\n",
      "Requirement already satisfied: fastapi<1.0,>=0.115.2 in ./venv/lib/python3.13/site-packages (from gradio) (0.116.1)\n",
      "Requirement already satisfied: ffmpy in ./venv/lib/python3.13/site-packages (from gradio) (0.6.0)\n",
      "Collecting gradio-client==1.11.0 (from gradio)\n",
      "  Downloading gradio_client-1.11.0-py3-none-any.whl.metadata (7.1 kB)\n",
      "Requirement already satisfied: groovy~=0.1 in ./venv/lib/python3.13/site-packages (from gradio) (0.1.2)\n",
      "Requirement already satisfied: httpx<1.0,>=0.24.1 in ./venv/lib/python3.13/site-packages (from gradio) (0.28.1)\n",
      "Requirement already satisfied: huggingface-hub>=0.28.1 in ./venv/lib/python3.13/site-packages (from gradio) (0.33.4)\n",
      "Requirement already satisfied: jinja2<4.0 in ./venv/lib/python3.13/site-packages (from gradio) (3.1.6)\n",
      "Requirement already satisfied: markupsafe<4.0,>=2.0 in ./venv/lib/python3.13/site-packages (from gradio) (3.0.2)\n",
      "Requirement already satisfied: numpy<3.0,>=1.0 in ./venv/lib/python3.13/site-packages (from gradio) (2.3.1)\n",
      "Requirement already satisfied: orjson~=3.0 in ./venv/lib/python3.13/site-packages (from gradio) (3.10.18)\n",
      "Requirement already satisfied: pandas<3.0,>=1.0 in ./venv/lib/python3.13/site-packages (from gradio) (2.3.1)\n",
      "Requirement already satisfied: pillow<12.0,>=8.0 in ./venv/lib/python3.13/site-packages (from gradio) (11.3.0)\n",
      "Requirement already satisfied: pydub in ./venv/lib/python3.13/site-packages (from gradio) (0.25.1)\n",
      "Requirement already satisfied: python-multipart>=0.0.18 in ./venv/lib/python3.13/site-packages (from gradio) (0.0.20)\n",
      "Requirement already satisfied: ruff>=0.9.3 in ./venv/lib/python3.13/site-packages (from gradio) (0.12.3)\n",
      "Requirement already satisfied: safehttpx<0.2.0,>=0.1.6 in ./venv/lib/python3.13/site-packages (from gradio) (0.1.6)\n",
      "Requirement already satisfied: semantic-version~=2.0 in ./venv/lib/python3.13/site-packages (from gradio) (2.10.0)\n",
      "Requirement already satisfied: starlette<1.0,>=0.40.0 in ./venv/lib/python3.13/site-packages (from gradio) (0.47.1)\n",
      "Requirement already satisfied: tomlkit<0.14.0,>=0.12.0 in ./venv/lib/python3.13/site-packages (from gradio) (0.13.3)\n",
      "Requirement already satisfied: typer<1.0,>=0.12 in ./venv/lib/python3.13/site-packages (from gradio) (0.16.0)\n",
      "Requirement already satisfied: uvicorn>=0.14.0 in ./venv/lib/python3.13/site-packages (from gradio) (0.35.0)\n",
      "Requirement already satisfied: fsspec in ./venv/lib/python3.13/site-packages (from gradio-client==1.11.0->gradio) (2025.5.1)\n",
      "Requirement already satisfied: websockets<16.0,>=10.0 in ./venv/lib/python3.13/site-packages (from gradio-client==1.11.0->gradio) (15.0.1)\n",
      "Requirement already satisfied: sniffio>=1.1 in ./venv/lib/python3.13/site-packages (from anyio<5.0,>=3.0->gradio) (1.3.1)\n",
      "Requirement already satisfied: httpcore==1.* in ./venv/lib/python3.13/site-packages (from httpx<1.0,>=0.24.1->gradio) (1.0.9)\n",
      "Requirement already satisfied: h11>=0.16 in ./venv/lib/python3.13/site-packages (from httpcore==1.*->httpx<1.0,>=0.24.1->gradio) (0.16.0)\n",
      "Requirement already satisfied: python-dateutil>=2.8.2 in ./venv/lib/python3.13/site-packages (from pandas<3.0,>=1.0->gradio) (2.9.0.post0)\n",
      "Requirement already satisfied: pytz>=2020.1 in ./venv/lib/python3.13/site-packages (from pandas<3.0,>=1.0->gradio) (2025.2)\n",
      "Requirement already satisfied: tzdata>=2022.7 in ./venv/lib/python3.13/site-packages (from pandas<3.0,>=1.0->gradio) (2025.2)\n",
      "Requirement already satisfied: click>=8.0.0 in ./venv/lib/python3.13/site-packages (from typer<1.0,>=0.12->gradio) (8.2.1)\n",
      "Requirement already satisfied: shellingham>=1.3.0 in ./venv/lib/python3.13/site-packages (from typer<1.0,>=0.12->gradio) (1.5.4)\n",
      "Requirement already satisfied: rich>=10.11.0 in ./venv/lib/python3.13/site-packages (from typer<1.0,>=0.12->gradio) (14.0.0)\n",
      "Requirement already satisfied: filelock in ./venv/lib/python3.13/site-packages (from huggingface-hub>=0.28.1->gradio) (3.18.0)\n",
      "Requirement already satisfied: tqdm>=4.42.1 in ./venv/lib/python3.13/site-packages (from huggingface-hub>=0.28.1->gradio) (4.67.1)\n",
      "Requirement already satisfied: hf-xet<2.0.0,>=1.1.2 in ./venv/lib/python3.13/site-packages (from huggingface-hub>=0.28.1->gradio) (1.1.5)\n",
      "Requirement already satisfied: requests-toolbelt<2.0.0,>=1.0.0 in ./venv/lib/python3.13/site-packages (from langsmith>=0.1.17->langchain) (1.0.0)\n",
      "Requirement already satisfied: zstandard<0.24.0,>=0.23.0 in ./venv/lib/python3.13/site-packages (from langsmith>=0.1.17->langchain) (0.23.0)\n",
      "Requirement already satisfied: six>=1.5 in ./venv/lib/python3.13/site-packages (from python-dateutil>=2.8.2->pandas<3.0,>=1.0->gradio) (1.17.0)\n",
      "Requirement already satisfied: markdown-it-py>=2.2.0 in ./venv/lib/python3.13/site-packages (from rich>=10.11.0->typer<1.0,>=0.12->gradio) (3.0.0)\n",
      "Requirement already satisfied: pygments<3.0.0,>=2.13.0 in ./venv/lib/python3.13/site-packages (from rich>=10.11.0->typer<1.0,>=0.12->gradio) (2.19.2)\n",
      "Requirement already satisfied: mdurl~=0.1 in ./venv/lib/python3.13/site-packages (from markdown-it-py>=2.2.0->rich>=10.11.0->typer<1.0,>=0.12->gradio) (0.1.2)\n",
      "Downloading gradio-5.38.0-py3-none-any.whl (59.6 MB)\n",
      "\u001b[2K   \u001b[90m━━━━━━━━━━━━━━━━━━━━━━━━━━━━━━━━━━━━━━━━\u001b[0m \u001b[32m59.6/59.6 MB\u001b[0m \u001b[31m19.1 MB/s\u001b[0m eta \u001b[36m0:00:00\u001b[0m00:01\u001b[0m00:01\u001b[0m\n",
      "\u001b[?25hDownloading gradio_client-1.11.0-py3-none-any.whl (324 kB)\n",
      "Installing collected packages: gradio-client, gradio\n",
      "\u001b[2K  Attempting uninstall: gradio-client\n",
      "\u001b[2K    Found existing installation: gradio_client 1.10.4\n",
      "\u001b[2K    Uninstalling gradio_client-1.10.4:\n",
      "\u001b[2K      Successfully uninstalled gradio_client-1.10.4\n",
      "\u001b[2K  Attempting uninstall: gradio\n",
      "\u001b[2K    Found existing installation: gradio 5.37.0\n",
      "\u001b[2K    Uninstalling gradio-5.37.0:\n",
      "\u001b[2K      Successfully uninstalled gradio-5.37.090m━━━━━━━━━━━━━━━━━━━\u001b[0m \u001b[32m1/2\u001b[0m [gradio]\n",
      "\u001b[2K   \u001b[90m━━━━━━━━━━━━━━━━━━━━━━━━━━━━━━━━━━━━━━━━\u001b[0m \u001b[32m2/2\u001b[0m [gradio]2m1/2\u001b[0m [gradio]\n",
      "\u001b[1A\u001b[2KSuccessfully installed gradio-5.38.0 gradio-client-1.11.0\n",
      "Requirement already satisfied: langchain-core in ./venv/lib/python3.13/site-packages (0.3.68)\n",
      "Collecting langchain-core\n",
      "  Downloading langchain_core-0.3.69-py3-none-any.whl.metadata (5.8 kB)\n",
      "Requirement already satisfied: langsmith>=0.3.45 in ./venv/lib/python3.13/site-packages (from langchain-core) (0.4.5)\n",
      "Requirement already satisfied: tenacity!=8.4.0,<10.0.0,>=8.1.0 in ./venv/lib/python3.13/site-packages (from langchain-core) (8.5.0)\n",
      "Requirement already satisfied: jsonpatch<2.0,>=1.33 in ./venv/lib/python3.13/site-packages (from langchain-core) (1.33)\n",
      "Requirement already satisfied: PyYAML>=5.3 in ./venv/lib/python3.13/site-packages (from langchain-core) (6.0.2)\n",
      "Requirement already satisfied: typing-extensions>=4.7 in ./venv/lib/python3.13/site-packages (from langchain-core) (4.14.1)\n",
      "Requirement already satisfied: packaging>=23.2 in ./venv/lib/python3.13/site-packages (from langchain-core) (24.2)\n",
      "Requirement already satisfied: pydantic>=2.7.4 in ./venv/lib/python3.13/site-packages (from langchain-core) (2.11.7)\n",
      "Requirement already satisfied: jsonpointer>=1.9 in ./venv/lib/python3.13/site-packages (from jsonpatch<2.0,>=1.33->langchain-core) (3.0.0)\n",
      "Requirement already satisfied: httpx<1,>=0.23.0 in ./venv/lib/python3.13/site-packages (from langsmith>=0.3.45->langchain-core) (0.28.1)\n",
      "Requirement already satisfied: orjson<4.0.0,>=3.9.14 in ./venv/lib/python3.13/site-packages (from langsmith>=0.3.45->langchain-core) (3.10.18)\n",
      "Requirement already satisfied: requests<3,>=2 in ./venv/lib/python3.13/site-packages (from langsmith>=0.3.45->langchain-core) (2.32.4)\n",
      "Requirement already satisfied: requests-toolbelt<2.0.0,>=1.0.0 in ./venv/lib/python3.13/site-packages (from langsmith>=0.3.45->langchain-core) (1.0.0)\n",
      "Requirement already satisfied: zstandard<0.24.0,>=0.23.0 in ./venv/lib/python3.13/site-packages (from langsmith>=0.3.45->langchain-core) (0.23.0)\n",
      "Requirement already satisfied: anyio in ./venv/lib/python3.13/site-packages (from httpx<1,>=0.23.0->langsmith>=0.3.45->langchain-core) (4.9.0)\n",
      "Requirement already satisfied: certifi in ./venv/lib/python3.13/site-packages (from httpx<1,>=0.23.0->langsmith>=0.3.45->langchain-core) (2025.7.9)\n",
      "Requirement already satisfied: httpcore==1.* in ./venv/lib/python3.13/site-packages (from httpx<1,>=0.23.0->langsmith>=0.3.45->langchain-core) (1.0.9)\n",
      "Requirement already satisfied: idna in ./venv/lib/python3.13/site-packages (from httpx<1,>=0.23.0->langsmith>=0.3.45->langchain-core) (3.10)\n",
      "Requirement already satisfied: h11>=0.16 in ./venv/lib/python3.13/site-packages (from httpcore==1.*->httpx<1,>=0.23.0->langsmith>=0.3.45->langchain-core) (0.16.0)\n",
      "Requirement already satisfied: annotated-types>=0.6.0 in ./venv/lib/python3.13/site-packages (from pydantic>=2.7.4->langchain-core) (0.7.0)\n",
      "Requirement already satisfied: pydantic-core==2.33.2 in ./venv/lib/python3.13/site-packages (from pydantic>=2.7.4->langchain-core) (2.33.2)\n",
      "Requirement already satisfied: typing-inspection>=0.4.0 in ./venv/lib/python3.13/site-packages (from pydantic>=2.7.4->langchain-core) (0.4.1)\n",
      "Requirement already satisfied: charset_normalizer<4,>=2 in ./venv/lib/python3.13/site-packages (from requests<3,>=2->langsmith>=0.3.45->langchain-core) (3.4.2)\n",
      "Requirement already satisfied: urllib3<3,>=1.21.1 in ./venv/lib/python3.13/site-packages (from requests<3,>=2->langsmith>=0.3.45->langchain-core) (2.5.0)\n",
      "Requirement already satisfied: sniffio>=1.1 in ./venv/lib/python3.13/site-packages (from anyio->httpx<1,>=0.23.0->langsmith>=0.3.45->langchain-core) (1.3.1)\n",
      "Downloading langchain_core-0.3.69-py3-none-any.whl (441 kB)\n",
      "Installing collected packages: langchain-core\n",
      "  Attempting uninstall: langchain-core\n",
      "    Found existing installation: langchain-core 0.3.68\n",
      "    Uninstalling langchain-core-0.3.68:\n",
      "      Successfully uninstalled langchain-core-0.3.68\n",
      "Successfully installed langchain-core-0.3.69\n",
      "Requirement already satisfied: langchain-google-vertexai in ./venv/lib/python3.13/site-packages (2.0.27)\n",
      "Requirement already satisfied: bottleneck<2.0.0,>=1.4.2 in ./venv/lib/python3.13/site-packages (from langchain-google-vertexai) (1.5.0)\n",
      "Requirement already satisfied: google-cloud-aiplatform<2.0.0,>=1.97.0 in ./venv/lib/python3.13/site-packages (from langchain-google-vertexai) (1.103.0)\n",
      "Requirement already satisfied: google-cloud-storage<3.0.0,>=2.18.0 in ./venv/lib/python3.13/site-packages (from langchain-google-vertexai) (2.19.0)\n",
      "Requirement already satisfied: httpx<0.29.0,>=0.28.0 in ./venv/lib/python3.13/site-packages (from langchain-google-vertexai) (0.28.1)\n",
      "Requirement already satisfied: httpx-sse<0.5.0,>=0.4.0 in ./venv/lib/python3.13/site-packages (from langchain-google-vertexai) (0.4.1)\n",
      "Requirement already satisfied: langchain-core<0.4,>=0.3.67 in ./venv/lib/python3.13/site-packages (from langchain-google-vertexai) (0.3.69)\n",
      "Requirement already satisfied: numexpr<3.0.0,>=2.8.6 in ./venv/lib/python3.13/site-packages (from langchain-google-vertexai) (2.11.0)\n",
      "Requirement already satisfied: pyarrow<20.0.0,>=19.0.1 in ./venv/lib/python3.13/site-packages (from langchain-google-vertexai) (19.0.1)\n",
      "Requirement already satisfied: pydantic<3.0,>=2.9 in ./venv/lib/python3.13/site-packages (from langchain-google-vertexai) (2.11.7)\n",
      "Requirement already satisfied: validators<1,>=0.22.0 in ./venv/lib/python3.13/site-packages (from langchain-google-vertexai) (0.35.0)\n",
      "Requirement already satisfied: numpy in ./venv/lib/python3.13/site-packages (from bottleneck<2.0.0,>=1.4.2->langchain-google-vertexai) (2.3.1)\n",
      "Requirement already satisfied: google-api-core!=2.0.*,!=2.1.*,!=2.2.*,!=2.3.*,!=2.4.*,!=2.5.*,!=2.6.*,!=2.7.*,<3.0.0,>=1.34.1 in ./venv/lib/python3.13/site-packages (from google-api-core[grpc]!=2.0.*,!=2.1.*,!=2.2.*,!=2.3.*,!=2.4.*,!=2.5.*,!=2.6.*,!=2.7.*,<3.0.0,>=1.34.1->google-cloud-aiplatform<2.0.0,>=1.97.0->langchain-google-vertexai) (2.25.1)\n",
      "Requirement already satisfied: google-auth<3.0.0,>=2.14.1 in ./venv/lib/python3.13/site-packages (from google-cloud-aiplatform<2.0.0,>=1.97.0->langchain-google-vertexai) (2.40.3)\n",
      "Requirement already satisfied: proto-plus<2.0.0,>=1.22.3 in ./venv/lib/python3.13/site-packages (from google-cloud-aiplatform<2.0.0,>=1.97.0->langchain-google-vertexai) (1.26.1)\n",
      "Requirement already satisfied: protobuf!=4.21.0,!=4.21.1,!=4.21.2,!=4.21.3,!=4.21.4,!=4.21.5,<7.0.0,>=3.20.2 in ./venv/lib/python3.13/site-packages (from google-cloud-aiplatform<2.0.0,>=1.97.0->langchain-google-vertexai) (6.31.1)\n",
      "Requirement already satisfied: packaging>=14.3 in ./venv/lib/python3.13/site-packages (from google-cloud-aiplatform<2.0.0,>=1.97.0->langchain-google-vertexai) (24.2)\n",
      "Requirement already satisfied: google-cloud-bigquery!=3.20.0,<4.0.0,>=1.15.0 in ./venv/lib/python3.13/site-packages (from google-cloud-aiplatform<2.0.0,>=1.97.0->langchain-google-vertexai) (3.34.0)\n",
      "Requirement already satisfied: google-cloud-resource-manager<3.0.0,>=1.3.3 in ./venv/lib/python3.13/site-packages (from google-cloud-aiplatform<2.0.0,>=1.97.0->langchain-google-vertexai) (1.14.2)\n",
      "Requirement already satisfied: shapely<3.0.0 in ./venv/lib/python3.13/site-packages (from google-cloud-aiplatform<2.0.0,>=1.97.0->langchain-google-vertexai) (2.1.1)\n",
      "Requirement already satisfied: google-genai<2.0.0,>=1.0.0 in ./venv/lib/python3.13/site-packages (from google-cloud-aiplatform<2.0.0,>=1.97.0->langchain-google-vertexai) (1.25.0)\n",
      "Requirement already satisfied: typing_extensions in ./venv/lib/python3.13/site-packages (from google-cloud-aiplatform<2.0.0,>=1.97.0->langchain-google-vertexai) (4.14.1)\n",
      "Requirement already satisfied: docstring_parser<1 in ./venv/lib/python3.13/site-packages (from google-cloud-aiplatform<2.0.0,>=1.97.0->langchain-google-vertexai) (0.16)\n",
      "Requirement already satisfied: googleapis-common-protos<2.0.0,>=1.56.2 in ./venv/lib/python3.13/site-packages (from google-api-core!=2.0.*,!=2.1.*,!=2.2.*,!=2.3.*,!=2.4.*,!=2.5.*,!=2.6.*,!=2.7.*,<3.0.0,>=1.34.1->google-api-core[grpc]!=2.0.*,!=2.1.*,!=2.2.*,!=2.3.*,!=2.4.*,!=2.5.*,!=2.6.*,!=2.7.*,<3.0.0,>=1.34.1->google-cloud-aiplatform<2.0.0,>=1.97.0->langchain-google-vertexai) (1.70.0)\n",
      "Requirement already satisfied: requests<3.0.0,>=2.18.0 in ./venv/lib/python3.13/site-packages (from google-api-core!=2.0.*,!=2.1.*,!=2.2.*,!=2.3.*,!=2.4.*,!=2.5.*,!=2.6.*,!=2.7.*,<3.0.0,>=1.34.1->google-api-core[grpc]!=2.0.*,!=2.1.*,!=2.2.*,!=2.3.*,!=2.4.*,!=2.5.*,!=2.6.*,!=2.7.*,<3.0.0,>=1.34.1->google-cloud-aiplatform<2.0.0,>=1.97.0->langchain-google-vertexai) (2.32.4)\n",
      "Requirement already satisfied: grpcio<2.0.0,>=1.33.2 in ./venv/lib/python3.13/site-packages (from google-api-core[grpc]!=2.0.*,!=2.1.*,!=2.2.*,!=2.3.*,!=2.4.*,!=2.5.*,!=2.6.*,!=2.7.*,<3.0.0,>=1.34.1->google-cloud-aiplatform<2.0.0,>=1.97.0->langchain-google-vertexai) (1.73.1)\n",
      "Requirement already satisfied: grpcio-status<2.0.0,>=1.33.2 in ./venv/lib/python3.13/site-packages (from google-api-core[grpc]!=2.0.*,!=2.1.*,!=2.2.*,!=2.3.*,!=2.4.*,!=2.5.*,!=2.6.*,!=2.7.*,<3.0.0,>=1.34.1->google-cloud-aiplatform<2.0.0,>=1.97.0->langchain-google-vertexai) (1.73.1)\n",
      "Requirement already satisfied: cachetools<6.0,>=2.0.0 in ./venv/lib/python3.13/site-packages (from google-auth<3.0.0,>=2.14.1->google-cloud-aiplatform<2.0.0,>=1.97.0->langchain-google-vertexai) (5.5.2)\n",
      "Requirement already satisfied: pyasn1-modules>=0.2.1 in ./venv/lib/python3.13/site-packages (from google-auth<3.0.0,>=2.14.1->google-cloud-aiplatform<2.0.0,>=1.97.0->langchain-google-vertexai) (0.4.2)\n",
      "Requirement already satisfied: rsa<5,>=3.1.4 in ./venv/lib/python3.13/site-packages (from google-auth<3.0.0,>=2.14.1->google-cloud-aiplatform<2.0.0,>=1.97.0->langchain-google-vertexai) (4.9.1)\n",
      "Requirement already satisfied: google-cloud-core<3.0.0,>=2.4.1 in ./venv/lib/python3.13/site-packages (from google-cloud-bigquery!=3.20.0,<4.0.0,>=1.15.0->google-cloud-aiplatform<2.0.0,>=1.97.0->langchain-google-vertexai) (2.4.3)\n",
      "Requirement already satisfied: google-resumable-media<3.0.0,>=2.0.0 in ./venv/lib/python3.13/site-packages (from google-cloud-bigquery!=3.20.0,<4.0.0,>=1.15.0->google-cloud-aiplatform<2.0.0,>=1.97.0->langchain-google-vertexai) (2.7.2)\n",
      "Requirement already satisfied: python-dateutil<3.0.0,>=2.8.2 in ./venv/lib/python3.13/site-packages (from google-cloud-bigquery!=3.20.0,<4.0.0,>=1.15.0->google-cloud-aiplatform<2.0.0,>=1.97.0->langchain-google-vertexai) (2.9.0.post0)\n",
      "Requirement already satisfied: grpc-google-iam-v1<1.0.0,>=0.14.0 in ./venv/lib/python3.13/site-packages (from google-cloud-resource-manager<3.0.0,>=1.3.3->google-cloud-aiplatform<2.0.0,>=1.97.0->langchain-google-vertexai) (0.14.2)\n",
      "Requirement already satisfied: google-crc32c<2.0dev,>=1.0 in ./venv/lib/python3.13/site-packages (from google-cloud-storage<3.0.0,>=2.18.0->langchain-google-vertexai) (1.7.1)\n",
      "Requirement already satisfied: anyio<5.0.0,>=4.8.0 in ./venv/lib/python3.13/site-packages (from google-genai<2.0.0,>=1.0.0->google-cloud-aiplatform<2.0.0,>=1.97.0->langchain-google-vertexai) (4.9.0)\n",
      "Requirement already satisfied: tenacity<9.0.0,>=8.2.3 in ./venv/lib/python3.13/site-packages (from google-genai<2.0.0,>=1.0.0->google-cloud-aiplatform<2.0.0,>=1.97.0->langchain-google-vertexai) (8.5.0)\n",
      "Requirement already satisfied: websockets<15.1.0,>=13.0.0 in ./venv/lib/python3.13/site-packages (from google-genai<2.0.0,>=1.0.0->google-cloud-aiplatform<2.0.0,>=1.97.0->langchain-google-vertexai) (15.0.1)\n",
      "Requirement already satisfied: idna>=2.8 in ./venv/lib/python3.13/site-packages (from anyio<5.0.0,>=4.8.0->google-genai<2.0.0,>=1.0.0->google-cloud-aiplatform<2.0.0,>=1.97.0->langchain-google-vertexai) (3.10)\n",
      "Requirement already satisfied: sniffio>=1.1 in ./venv/lib/python3.13/site-packages (from anyio<5.0.0,>=4.8.0->google-genai<2.0.0,>=1.0.0->google-cloud-aiplatform<2.0.0,>=1.97.0->langchain-google-vertexai) (1.3.1)\n",
      "Requirement already satisfied: certifi in ./venv/lib/python3.13/site-packages (from httpx<0.29.0,>=0.28.0->langchain-google-vertexai) (2025.7.9)\n",
      "Requirement already satisfied: httpcore==1.* in ./venv/lib/python3.13/site-packages (from httpx<0.29.0,>=0.28.0->langchain-google-vertexai) (1.0.9)\n",
      "Requirement already satisfied: h11>=0.16 in ./venv/lib/python3.13/site-packages (from httpcore==1.*->httpx<0.29.0,>=0.28.0->langchain-google-vertexai) (0.16.0)\n",
      "Requirement already satisfied: langsmith>=0.3.45 in ./venv/lib/python3.13/site-packages (from langchain-core<0.4,>=0.3.67->langchain-google-vertexai) (0.4.5)\n",
      "Requirement already satisfied: jsonpatch<2.0,>=1.33 in ./venv/lib/python3.13/site-packages (from langchain-core<0.4,>=0.3.67->langchain-google-vertexai) (1.33)\n",
      "Requirement already satisfied: PyYAML>=5.3 in ./venv/lib/python3.13/site-packages (from langchain-core<0.4,>=0.3.67->langchain-google-vertexai) (6.0.2)\n",
      "Requirement already satisfied: jsonpointer>=1.9 in ./venv/lib/python3.13/site-packages (from jsonpatch<2.0,>=1.33->langchain-core<0.4,>=0.3.67->langchain-google-vertexai) (3.0.0)\n",
      "Requirement already satisfied: annotated-types>=0.6.0 in ./venv/lib/python3.13/site-packages (from pydantic<3.0,>=2.9->langchain-google-vertexai) (0.7.0)\n",
      "Requirement already satisfied: pydantic-core==2.33.2 in ./venv/lib/python3.13/site-packages (from pydantic<3.0,>=2.9->langchain-google-vertexai) (2.33.2)\n",
      "Requirement already satisfied: typing-inspection>=0.4.0 in ./venv/lib/python3.13/site-packages (from pydantic<3.0,>=2.9->langchain-google-vertexai) (0.4.1)\n",
      "Requirement already satisfied: six>=1.5 in ./venv/lib/python3.13/site-packages (from python-dateutil<3.0.0,>=2.8.2->google-cloud-bigquery!=3.20.0,<4.0.0,>=1.15.0->google-cloud-aiplatform<2.0.0,>=1.97.0->langchain-google-vertexai) (1.17.0)\n",
      "Requirement already satisfied: charset_normalizer<4,>=2 in ./venv/lib/python3.13/site-packages (from requests<3.0.0,>=2.18.0->google-api-core!=2.0.*,!=2.1.*,!=2.2.*,!=2.3.*,!=2.4.*,!=2.5.*,!=2.6.*,!=2.7.*,<3.0.0,>=1.34.1->google-api-core[grpc]!=2.0.*,!=2.1.*,!=2.2.*,!=2.3.*,!=2.4.*,!=2.5.*,!=2.6.*,!=2.7.*,<3.0.0,>=1.34.1->google-cloud-aiplatform<2.0.0,>=1.97.0->langchain-google-vertexai) (3.4.2)\n",
      "Requirement already satisfied: urllib3<3,>=1.21.1 in ./venv/lib/python3.13/site-packages (from requests<3.0.0,>=2.18.0->google-api-core!=2.0.*,!=2.1.*,!=2.2.*,!=2.3.*,!=2.4.*,!=2.5.*,!=2.6.*,!=2.7.*,<3.0.0,>=1.34.1->google-api-core[grpc]!=2.0.*,!=2.1.*,!=2.2.*,!=2.3.*,!=2.4.*,!=2.5.*,!=2.6.*,!=2.7.*,<3.0.0,>=1.34.1->google-cloud-aiplatform<2.0.0,>=1.97.0->langchain-google-vertexai) (2.5.0)\n",
      "Requirement already satisfied: pyasn1>=0.1.3 in ./venv/lib/python3.13/site-packages (from rsa<5,>=3.1.4->google-auth<3.0.0,>=2.14.1->google-cloud-aiplatform<2.0.0,>=1.97.0->langchain-google-vertexai) (0.6.1)\n",
      "Requirement already satisfied: orjson<4.0.0,>=3.9.14 in ./venv/lib/python3.13/site-packages (from langsmith>=0.3.45->langchain-core<0.4,>=0.3.67->langchain-google-vertexai) (3.10.18)\n",
      "Requirement already satisfied: requests-toolbelt<2.0.0,>=1.0.0 in ./venv/lib/python3.13/site-packages (from langsmith>=0.3.45->langchain-core<0.4,>=0.3.67->langchain-google-vertexai) (1.0.0)\n",
      "Requirement already satisfied: zstandard<0.24.0,>=0.23.0 in ./venv/lib/python3.13/site-packages (from langsmith>=0.3.45->langchain-core<0.4,>=0.3.67->langchain-google-vertexai) (0.23.0)\n",
      "Requirement already satisfied: jupyterlab_widgets in ./venv/lib/python3.13/site-packages (3.0.15)\n",
      "Collecting langcache\n",
      "  Downloading langcache-0.9.1-py3-none-any.whl.metadata (21 kB)\n",
      "Requirement already satisfied: httpcore>=1.0.9 in ./venv/lib/python3.13/site-packages (from langcache) (1.0.9)\n",
      "Requirement already satisfied: httpx>=0.28.1 in ./venv/lib/python3.13/site-packages (from langcache) (0.28.1)\n",
      "Requirement already satisfied: pydantic>=2.11.2 in ./venv/lib/python3.13/site-packages (from langcache) (2.11.7)\n",
      "Requirement already satisfied: certifi in ./venv/lib/python3.13/site-packages (from httpcore>=1.0.9->langcache) (2025.7.9)\n",
      "Requirement already satisfied: h11>=0.16 in ./venv/lib/python3.13/site-packages (from httpcore>=1.0.9->langcache) (0.16.0)\n",
      "Requirement already satisfied: anyio in ./venv/lib/python3.13/site-packages (from httpx>=0.28.1->langcache) (4.9.0)\n",
      "Requirement already satisfied: idna in ./venv/lib/python3.13/site-packages (from httpx>=0.28.1->langcache) (3.10)\n",
      "Requirement already satisfied: annotated-types>=0.6.0 in ./venv/lib/python3.13/site-packages (from pydantic>=2.11.2->langcache) (0.7.0)\n",
      "Requirement already satisfied: pydantic-core==2.33.2 in ./venv/lib/python3.13/site-packages (from pydantic>=2.11.2->langcache) (2.33.2)\n",
      "Requirement already satisfied: typing-extensions>=4.12.2 in ./venv/lib/python3.13/site-packages (from pydantic>=2.11.2->langcache) (4.14.1)\n",
      "Requirement already satisfied: typing-inspection>=0.4.0 in ./venv/lib/python3.13/site-packages (from pydantic>=2.11.2->langcache) (0.4.1)\n",
      "Requirement already satisfied: sniffio>=1.1 in ./venv/lib/python3.13/site-packages (from anyio->httpx>=0.28.1->langcache) (1.3.1)\n",
      "Downloading langcache-0.9.1-py3-none-any.whl (57 kB)\n",
      "Installing collected packages: langcache\n",
      "Successfully installed langcache-0.9.1\n",
      "Note: you may need to restart the kernel to use updated packages.\n"
     ]
    }
   ],
   "source": [
    "!pwd\n",
    "!pip install --upgrade pip\n",
    "\n",
    "# Install required libraries\n",
    "!pip install -U langchain gradio\n",
    "!pip install -U langchain-core\n",
    "!pip install -U langchain-google-vertexai\n",
    "!pip install jupyterlab_widgets\n",
    "!pip install -U langcache\n",
    "%pip install -qU pypdf\n"
   ]
  },
  {
   "cell_type": "code",
   "execution_count": null,
   "id": "cnEl0UcxWV5w",
   "metadata": {
    "colab": {
     "base_uri": "https://localhost:8080/"
    },
    "id": "cnEl0UcxWV5w",
    "outputId": "7724302c-2a67-4c99-a371-5cc43e6f53aa"
   },
   "outputs": [],
   "source": [
    "!wget https://storage.googleapis.com/abhi-data-2024/how_india_shops_online.pdf -O report.pdf\n"
   ]
  },
  {
   "cell_type": "code",
   "execution_count": 1,
   "id": "6e1c7cf1",
   "metadata": {},
   "outputs": [
    {
     "name": "stdout",
     "output_type": "stream",
     "text": [
      "✅ Already authenticated.\n"
     ]
    }
   ],
   "source": [
    "#!pip install --upgrade google-auth google-auth-oauthlib google-auth-httplib2\n",
    "import os\n",
    "import subprocess\n",
    "\n",
    "def check_and_authenticate():\n",
    "    adc_path = os.path.expanduser(\"~/.config/gcloud/application_default_credentials.json\")\n",
    "    if os.path.exists(adc_path):\n",
    "        print(\"✅ Already authenticated.\")\n",
    "    else:\n",
    "        print(\"🔑 Not authenticated. Starting login flow...\")\n",
    "        subprocess.run([\"gcloud\", \"auth\", \"application-default\", \"login\"])\n",
    "\n",
    "check_and_authenticate()"
   ]
  },
  {
   "cell_type": "code",
   "execution_count": null,
   "id": "3612c9ff",
   "metadata": {},
   "outputs": [],
   "source": [
    "from langchain_google_vertexai import VertexAIEmbeddings\n",
    "from getpass import getpass\n",
    "import vertexai\n",
    "#import google.auth\n",
    "import vertexai\n",
    "\n",
    "# input your GCP project ID and region for Vertex AI\n",
    "PROJECT_ID = 'central-beach-194106'#getpass(\"PROJECT_ID:\")\n",
    "REGION = 'us-central1' #input(\"REGION:\")\n",
    "\n",
    "#creds, _ = google.auth.default(quota_project_id=PROJECT_ID)\n",
    "\n",
    "\n",
    "#vertexai.init(project=PROJECT_ID, credentials=creds, location=REGION)\n",
    "vertexai.init(project=PROJECT_ID, location=REGION)\n",
    "\n",
    "print(f'PROJECT_ID: {PROJECT_ID} & REGION: {REGION}')\n",
    "\n"
   ]
  },
  {
   "cell_type": "code",
   "execution_count": 8,
   "id": "eWsh85l_sRvp",
   "metadata": {
    "colab": {
     "base_uri": "https://localhost:8080/"
    },
    "id": "eWsh85l_sRvp",
    "outputId": "5d5e57c1-9c2b-45da-d176-a25457997cc3"
   },
   "outputs": [
    {
     "data": {
      "text/plain": [
       "'\\nfrom langchain_google_vertexai import VertexAIEmbeddings\\nfrom google.colab import auth\\nfrom getpass import getpass\\nimport vertexai\\nimport google.auth\\nimport vertexai\\n\\n# input your GCP project ID and region for Vertex AI\\nPROJECT_ID = getpass(\"PROJECT_ID:\")\\nREGION = \\'us-central1\\' #input(\"REGION:\")\\n\\nauth.authenticate_user()\\n\\n#creds, _ = google.auth.default(quota_project_id=PROJECT_ID)\\nprint(\\'Authenticated\\')\\n\\n#vertexai.init(project=PROJECT_ID, credentials=creds, location=REGION)\\nvertexai.init(project=PROJECT_ID, location=REGION)\\n\\nprint(f\\'PROJECT_ID: {PROJECT_ID} & REGION: {REGION}\\')\\n\\n'"
      ]
     },
     "execution_count": 8,
     "metadata": {},
     "output_type": "execute_result"
    }
   ],
   "source": [
    "### Following code only works when running the notebook in Google Colab or GCP vertex AI Notebook\n",
    "'''\n",
    "from langchain_google_vertexai import VertexAIEmbeddings\n",
    "from google.colab import auth\n",
    "from getpass import getpass\n",
    "import vertexai\n",
    "import google.auth\n",
    "import vertexai\n",
    "\n",
    "# input your GCP project ID and region for Vertex AI\n",
    "PROJECT_ID = getpass(\"PROJECT_ID:\")\n",
    "REGION = 'us-central1' #input(\"REGION:\")\n",
    "\n",
    "auth.authenticate_user()\n",
    "\n",
    "#creds, _ = google.auth.default(quota_project_id=PROJECT_ID)\n",
    "print('Authenticated')\n",
    "\n",
    "#vertexai.init(project=PROJECT_ID, credentials=creds, location=REGION)\n",
    "vertexai.init(project=PROJECT_ID, location=REGION)\n",
    "\n",
    "print(f'PROJECT_ID: {PROJECT_ID} & REGION: {REGION}')\n",
    "\n",
    "'''"
   ]
  },
  {
   "cell_type": "code",
   "execution_count": 2,
   "id": "5ca3cd85",
   "metadata": {},
   "outputs": [],
   "source": [
    "from langchain import PromptTemplate\n",
    "from langchain_core.output_parsers import JsonOutputParser\n",
    "from langchain_core.prompts import PromptTemplate\n",
    "from pydantic import BaseModel, Field\n",
    "from typing import List\n",
    "\n",
    "\n",
    "# Define your desired data structure.\n",
    "class PromptResponse(BaseModel):\n",
    "    prompt: str = Field(description=\"User input question about information in the document.\")\n",
    "    response: str = Field(description=\"Grounded answer from the LLM pertaining to the user's question.\")\n",
    "\n",
    "class FAQs(BaseModel):\n",
    "    pairs: List[PromptResponse] = Field(description=\"List of prompt response pairs extracted from the document\")\n",
    "\n",
    "\n",
    "# Set up a parser + inject instructions into the prompt template.\n",
    "json_parser = JsonOutputParser(pydantic_object=FAQs)\n"
   ]
  },
  {
   "cell_type": "code",
   "execution_count": 3,
   "id": "c92ba90a",
   "metadata": {},
   "outputs": [],
   "source": [
    "from langchain_google_vertexai import VertexAI\n",
    "\n",
    "# Create LLM\n",
    "llm = VertexAI(\n",
    "    model_name=\"gemini-2.5-pro\",\n",
    "    max_output_tokens=2048,\n",
    "    temperature=0.5,\n",
    "    verbose=True,\n",
    ")\n",
    "\n",
    "prompt = PromptTemplate(\n",
    "    template=\"\"\"You are a document intelligence tool used to extract FAQs\n",
    "    from portions of a source PDF document. Put yourself in the shoes of a potential\n",
    "    reader of the provided material and anticipate what questions they might have.\n",
    "    Looking at the context below, your goal is to pull out some relevant question (prompt) \n",
    "    and answer (response) pairs, using only what's provided.\n",
    "\n",
    "    Other Rules:\n",
    "    - Create as many FAQs as possible, even rewording the same question and answer\n",
    "    a few times while remaining faithful to the truth and provided content.\n",
    "    - Ignore heavy marketing or salesly concepts and focus specifically on\n",
    "    factual data.\n",
    "    - Do not make up any information, only use what is provided in the context.\n",
    "    \n",
    "    {format_instructions}\n",
    "\n",
    "    Document Context:\\n{doc}\\n\"\"\",\n",
    "    input_variables=[\"doc\"],\n",
    "    partial_variables={\"format_instructions\": json_parser.get_format_instructions()},\n",
    ")\n",
    "\n",
    "faq_generator_chain = prompt | llm | json_parser"
   ]
  },
  {
   "cell_type": "code",
   "execution_count": null,
   "id": "36ad5e77-2ee8-4aea-8dd7-8b5bcdeeb72a",
   "metadata": {
    "id": "DYtdUxxFSxh9"
   },
   "outputs": [
    {
     "ename": "ServiceUnavailableErrorResponseContent",
     "evalue": "{\"detail\":\"Request was rate limited by the embedding provider, or the quota was exceeded\",\"status\":503,\"title\":\"Rate Limited By Embedding Provider\",\"type\":\"/errors/embeddings/too-many-requests\"}",
     "output_type": "error",
     "traceback": [
      "\u001b[31m---------------------------------------------------------------------------\u001b[39m",
      "\u001b[31mServiceUnavailableErrorResponseContent\u001b[39m    Traceback (most recent call last)",
      "\u001b[36mCell\u001b[39m\u001b[36m \u001b[39m\u001b[32mIn[7]\u001b[39m\u001b[32m, line 13\u001b[39m\n\u001b[32m      5\u001b[39m LANG_CACHE_SERVICE_KEY = \u001b[33m\"\u001b[39m\u001b[33mwy4ECQMIKbW6j4mMAATggFuKWHRgotveUztbf_Kzjef0O7Vw-1cRIeVzGN07X1Ks0mcB_wzLfte8F4QEAp0akpbgTLUFMkxsB4RFuKsykm3oy_ZZhgLSuZN2Gaqa__mdHBR-A2VZPkzfX0SB3T1ZruhiKxtVjmawg_vKYT6MNnDfcOgyW5OZVB0MwWOs82bfV9juKSqGyqwv\u001b[39m\u001b[33m\"\u001b[39m\n\u001b[32m      7\u001b[39m \u001b[38;5;28;01mwith\u001b[39;00m LangCache(\n\u001b[32m      8\u001b[39m     server_url=LANG_CACHE_SERVER_URL,\n\u001b[32m      9\u001b[39m     cache_id=LANG_CACHE_ID,\n\u001b[32m     10\u001b[39m     service_key=LANG_CACHE_SERVICE_KEY,\n\u001b[32m     11\u001b[39m ) \u001b[38;5;28;01mas\u001b[39;00m lang_cache:\n\u001b[32m---> \u001b[39m\u001b[32m13\u001b[39m     res = \u001b[43mlang_cache\u001b[49m\u001b[43m.\u001b[49m\u001b[43mset\u001b[49m\u001b[43m(\u001b[49m\u001b[43mprompt\u001b[49m\u001b[43m=\u001b[49m\u001b[33;43m\"\u001b[39;49m\u001b[33;43mHow does semantic caching work?\u001b[39;49m\u001b[33;43m\"\u001b[39;49m\u001b[43m,\u001b[49m\u001b[43m \u001b[49m\u001b[43mresponse\u001b[49m\u001b[43m=\u001b[49m\u001b[33;43m\"\u001b[39;49m\u001b[33;43mSemantic caching stores and retrieves data based on meaning, not exact matches.\u001b[39;49m\u001b[33;43m\"\u001b[39;49m\u001b[43m)\u001b[49m\n\u001b[32m     15\u001b[39m     \u001b[38;5;66;03m# Handle response\u001b[39;00m\n\u001b[32m     16\u001b[39m     \u001b[38;5;28mprint\u001b[39m(res)\n",
      "\u001b[36mFile \u001b[39m\u001b[32m~/apps/workspace/redis-ai/chatpdf/venv/lib/python3.13/site-packages/langcache/sdk.py:482\u001b[39m, in \u001b[36mLangCache.set\u001b[39m\u001b[34m(self, prompt, response, attributes, ttl_millis, retries, server_url, timeout_ms, http_headers)\u001b[39m\n\u001b[32m    478\u001b[39m \u001b[38;5;28;01mif\u001b[39;00m utils.match_response(http_res, \u001b[33m\"\u001b[39m\u001b[33m503\u001b[39m\u001b[33m\"\u001b[39m, \u001b[33m\"\u001b[39m\u001b[33mapplication/json\u001b[39m\u001b[33m\"\u001b[39m):\n\u001b[32m    479\u001b[39m     response_data = unmarshal_json_response(\n\u001b[32m    480\u001b[39m         errors.ServiceUnavailableErrorResponseContentData, http_res\n\u001b[32m    481\u001b[39m     )\n\u001b[32m--> \u001b[39m\u001b[32m482\u001b[39m     \u001b[38;5;28;01mraise\u001b[39;00m errors.ServiceUnavailableErrorResponseContent(response_data, http_res)\n\u001b[32m    483\u001b[39m \u001b[38;5;28;01mif\u001b[39;00m utils.match_response(http_res, \u001b[33m\"\u001b[39m\u001b[33m4XX\u001b[39m\u001b[33m\"\u001b[39m, \u001b[33m\"\u001b[39m\u001b[33m*\u001b[39m\u001b[33m\"\u001b[39m):\n\u001b[32m    484\u001b[39m     http_res_text = utils.stream_to_text(http_res)\n",
      "\u001b[31mServiceUnavailableErrorResponseContent\u001b[39m: {\"detail\":\"Request was rate limited by the embedding provider, or the quota was exceeded\",\"status\":503,\"title\":\"Rate Limited By Embedding Provider\",\"type\":\"/errors/embeddings/too-many-requests\"}"
     ]
    }
   ],
   "source": [
    "\n",
    "from langcache import LangCache\n",
    "\n",
    "LANG_CACHE_SERVER_URL = \"https://gcp-us-east4.langcache.redis.io\"\n",
    "LANG_CACHE_ID = \"****\"\n",
    "LANG_CACHE_SERVICE_KEY = \"******\"\n",
    "\n",
    "with LangCache(\n",
    "    server_url=LANG_CACHE_SERVER_URL,\n",
    "    cache_id=LANG_CACHE_ID,\n",
    "    service_key=LANG_CACHE_SERVICE_KEY,\n",
    ") as lang_cache:\n",
    "\n",
    "    res = lang_cache.set(prompt=\"How does semantic caching work?\", response=\"Semantic caching stores and retrieves data based on meaning, not exact matches.\")\n",
    "\n",
    "    # Handle response\n",
    "    print(res)\n"
   ]
  },
  {
   "cell_type": "code",
   "execution_count": 7,
   "id": "cb32524b",
   "metadata": {},
   "outputs": [],
   "source": [
    "from langchain.text_splitter import RecursiveCharacterTextSplitter\n",
    "from langchain_community.document_loaders import PyPDFLoader\n",
    "\n",
    "file = \"report.pdf\"\n",
    "\n",
    "# set up the file loader/extractor and text splitter to create chunks\n",
    "text_splitter = RecursiveCharacterTextSplitter(\n",
    "    chunk_size=1500, chunk_overlap=50, add_start_index=True\n",
    ")\n",
    "\n",
    "loader = PyPDFLoader(file)\n",
    "documents = loader.load()\n",
    "\n",
    "chunks = text_splitter.split_documents(documents)\n",
    "chunked_docs = [doc.page_content for doc in chunks]"
   ]
  },
  {
   "cell_type": "code",
   "execution_count": 41,
   "id": "f880177c",
   "metadata": {},
   "outputs": [
    {
     "name": "stdout",
     "output_type": "stream",
     "text": [
      "Total number of chunks: 96\n",
      "explore digital avenues.  \n",
      "4 https://www.businesstoday.in/latest/corporate/story/indians-spent-87-billion-hours-on-shopping-apps-in-2022 report-366927-2023-01-20\n"
     ]
    }
   ],
   "source": [
    "print(f\"Total number of chunks: {len(chunked_docs)}\")\n",
    "print(chunked_docs[11])"
   ]
  },
  {
   "cell_type": "code",
   "execution_count": null,
   "id": "cc3d8c11",
   "metadata": {},
   "outputs": [
    {
     "name": "stdout",
     "output_type": "stream",
     "text": [
      "Total number of FAQs generated: 6\n",
      "Sample FAQ: {'prompt': 'What are the common reasons why people in India shop online?', 'response': 'Both urban dwellers and consumers from the rest of India make planned purchases online to access a wider range of price options and brands. Additionally, for both groups, browsing online shopping platforms during their free time can trigger a purchase.'}\n",
      "[{'prompt': 'What are the common reasons why people in India shop online?', 'response': 'Both urban dwellers and consumers from the rest of India make planned purchases online to access a wider range of price options and brands. Additionally, for both groups, browsing online shopping platforms during their free time can trigger a purchase.'}, {'prompt': \"What are the main motivators for consumers in the 'rest of India' to shop online?\", 'response': \"The primary reasons consumers in the 'rest of India' opt for online shopping are the absence of physical stores for premium brands, stockouts of certain products in local stores, and a lack of knowledgeable staff in offline retail environments.\"}, {'prompt': 'Why do urban dwellers in India prefer to shop online?', 'response': 'Urban dwellers are motivated to shop online due to the lack of discounts and special offers in physical stores and to avoid the large crowds often found in malls, particularly during weekends.'}, {'prompt': \"How does social media influence consumers' purchasing habits?\", 'response': 'Social media has significantly amplified awareness and aspirations, leading to 62% of survey respondents trying products after seeing them on platforms like Facebook and Instagram.'}, {'prompt': 'What percentage of people have tried a product after seeing it on social media?', 'response': 'According to the provided text, 62% of respondents have tried products after seeing them on Facebook and Instagram.'}, {'prompt': \"How does the influence of social media differ between urban dwellers and those in the 'rest of India'?\", 'response': \"For consumers in the 'rest of India', social media has become the most preferred channel for encouraging trials of new products.\"}]\n"
     ]
    }
   ],
   "source": [
    "\n",
    "faqs=[]  \n",
    "res = faq_generator_chain.invoke({\"doc\": chunked_docs[12]})\n",
    "if res:\n",
    "    faqs.extend(res['pairs'])\n",
    "    print(f\"Total number of FAQs generated: {len(res['pairs'])}\")\n",
    "    print(f\"Sample FAQ: {res['pairs'][0]}\")\n",
    "else:\n",
    "    print(\"No FAQs generated or unexpected response format.\")\n",
    "\n",
    "print(faqs)"
   ]
  },
  {
   "cell_type": "code",
   "execution_count": null,
   "id": "3b173198",
   "metadata": {},
   "outputs": [
    {
     "name": "stdout",
     "output_type": "stream",
     "text": [
      "Processing faq 1 of 6\n",
      "Processing faq 2 of 6\n",
      "Processing faq 3 of 6\n",
      "Processing faq 4 of 6\n",
      "Processing faq 5 of 6\n",
      "Processing faq 6 of 6\n"
     ]
    }
   ],
   "source": [
    "from langchain_core.outputs import Generation\n",
    "from langchain_redis import RedisVectorStore\n",
    "from langchain_redis.cache import EmbeddingsVectorizer\n",
    "from langcache import LangCache\n",
    "\n",
    "\n",
    "#vectorizer = EmbeddingsVectorizer(embeddings=model)\n",
    "questions = [faq[\"prompt\"] for faq in faqs]\n",
    "for i, faq in enumerate(faqs):\n",
    "\tprint(f\"Processing faq {i+1} of {len(faqs)}\", flush=True)\n",
    "\t#cache.update(faq[\"prompt\"], \"llm1\", [Generation(text=faq[\"response\"])])\n",
    "\twith LangCache(\n",
    "\t\tserver_url=LANG_CACHE_SERVER_URL,\n",
    "\t\tcache_id=LANG_CACHE_ID,\n",
    "\t\tservice_key=LANG_CACHE_SERVICE_KEY,\n",
    "\t) as lang_cache:\n",
    "\n",
    "\t\tres = lang_cache.set(prompt=faq[\"prompt\"], response=faq[\"response\"])\n",
    "\t"
   ]
  },
  {
   "cell_type": "code",
   "execution_count": null,
   "id": "XelSUbTkS7rj",
   "metadata": {
    "id": "XelSUbTkS7rj"
   },
   "outputs": [
    {
     "name": "stdout",
     "output_type": "stream",
     "text": [
      "Question: What are the common reasons why people in India shop online?\n",
      "Cached response: Both urban dwellers and consumers from the rest of India make planned purchases online to access a wider range of price options and brands. Additionally, for both groups, browsing online shopping platforms during their free time can trigger a purchase.\n",
      "\n",
      "Question: What are the main motivators for consumers in the 'rest of India' to shop online?\n",
      "Cached response: The primary reasons consumers in the 'rest of India' opt for online shopping are the absence of physical stores for premium brands, stockouts of certain products in local stores, and a lack of knowledgeable staff in offline retail environments.\n",
      "\n",
      "Question: Why do urban dwellers in India prefer to shop online?\n",
      "Cached response: Urban dwellers are motivated to shop online due to the lack of discounts and special offers in physical stores and to avoid the large crowds often found in malls, particularly during weekends.\n",
      "\n",
      "Question: How does social media influence consumers' purchasing habits?\n",
      "Cached response: Social media has significantly amplified awareness and aspirations, leading to 62% of survey respondents trying products after seeing them on platforms like Facebook and Instagram.\n",
      "\n",
      "Question: What percentage of people have tried a product after seeing it on social media?\n",
      "Cached response: According to the provided text, 62% of respondents have tried products after seeing them on Facebook and Instagram.\n",
      "\n",
      "Question: How does the influence of social media differ between urban dwellers and those in the 'rest of India'?\n",
      "Cached response: For consumers in the 'rest of India', social media has become the most preferred channel for encouraging trials of new products.\n",
      "\n",
      "CPU times: user 53.5 ms, sys: 33.4 ms, total: 86.9 ms\n",
      "Wall time: 4.15 s\n"
     ]
    }
   ],
   "source": [
    "%%time\n",
    "from langcache import LangCache\n",
    "\n",
    "\n",
    "result = None\n",
    "for question in questions:\n",
    "   print(f\"Question: {question}\")\n",
    "   with LangCache(\n",
    "\t\tserver_url=LANG_CACHE_SERVER_URL,\n",
    "\t\tcache_id=LANG_CACHE_ID,\n",
    "\t\tservice_key=LANG_CACHE_SERVICE_KEY,\n",
    "\t) as lang_cache:\n",
    "\n",
    "      result = lang_cache.search(prompt=question, similarity_threshold=0.9)\n",
    "   if result:\n",
    "      print(f\"Cached response: {result}\\n\")\n",
    "   else:\n",
    "      print(f\"Cache miss for question: {question}\")\n"
   ]
  }
 ],
 "metadata": {
  "colab": {
   "include_colab_link": true,
   "provenance": [],
   "toc_visible": true
  },
  "kernelspec": {
   "display_name": "venv",
   "language": "python",
   "name": "python3"
  },
  "language_info": {
   "codemirror_mode": {
    "name": "ipython",
    "version": 3
   },
   "file_extension": ".py",
   "mimetype": "text/x-python",
   "name": "python",
   "nbconvert_exporter": "python",
   "pygments_lexer": "ipython3",
   "version": "3.13.5"
  }
 },
 "nbformat": 4,
 "nbformat_minor": 5
}
